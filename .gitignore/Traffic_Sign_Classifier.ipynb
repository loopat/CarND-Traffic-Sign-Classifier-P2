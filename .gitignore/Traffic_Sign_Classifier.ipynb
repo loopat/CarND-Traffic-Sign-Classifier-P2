{
 "cells": [
  {
   "cell_type": "markdown",
   "metadata": {},
   "source": [
    "# Self-Driving Car Engineer Nanodegree\n",
    "\n",
    "## Deep Learning\n",
    "\n",
    "## Project: Build a Traffic Sign Recognition Classifier\n",
    "\n",
    "In this notebook, a template is provided for you to implement your functionality in stages, which is required to successfully complete this project. If additional code is required that cannot be included in the notebook, be sure that the Python code is successfully imported and included in your submission if necessary. \n",
    "\n",
    "> **Note**: Once you have completed all of the code implementations, you need to finalize your work by exporting the iPython Notebook as an HTML document. Before exporting the notebook to html, all of the code cells need to have been run so that reviewers can see the final implementation and output. You can then export the notebook by using the menu above and navigating to  \\n\",\n",
    "    \"**File -> Download as -> HTML (.html)**. Include the finished document along with this notebook as your submission. \n",
    "\n",
    "In addition to implementing code, there is a writeup to complete. The writeup should be completed in a separate file, which can be either a markdown file or a pdf document. There is a [write up template](https://github.com/udacity/CarND-Traffic-Sign-Classifier-Project/blob/master/writeup_template.md) that can be used to guide the writing process. Completing the code template and writeup template will cover all of the [rubric points](https://review.udacity.com/#!/rubrics/481/view) for this project.\n",
    "\n",
    "The [rubric](https://review.udacity.com/#!/rubrics/481/view) contains \"Stand Out Suggestions\" for enhancing the project beyond the minimum requirements. The stand out suggestions are optional. If you decide to pursue the \"stand out suggestions\", you can include the code in this Ipython notebook and also discuss the results in the writeup file.\n",
    "\n",
    "\n",
    ">**Note:** Code and Markdown cells can be executed using the **Shift + Enter** keyboard shortcut. In addition, Markdown cells can be edited by typically double-clicking the cell to enter edit mode."
   ]
  },
  {
   "cell_type": "markdown",
   "metadata": {},
   "source": [
    "---\n",
    "## Step 0: Load The Data"
   ]
  },
  {
   "cell_type": "code",
   "execution_count": 1,
   "metadata": {
    "collapsed": true
   },
   "outputs": [],
   "source": [
    "# Load pickled data\n",
    "import pickle\n",
    "\n",
    "# TODO: Fill this in based on where you saved the training and testing data\n",
    "\n",
    "training_file = './traffic-signs-data/train.p'\n",
    "validation_file= './traffic-signs-data/valid.p'\n",
    "testing_file = './traffic-signs-data/test.p'\n",
    "\n",
    "with open(training_file, mode='rb') as f:\n",
    "    train = pickle.load(f)\n",
    "with open(validation_file, mode='rb') as f:\n",
    "    valid = pickle.load(f)\n",
    "with open(testing_file, mode='rb') as f:\n",
    "    test = pickle.load(f)\n",
    "    \n",
    "X_train, y_train = train['features'], train['labels']\n",
    "X_valid, y_valid = valid['features'], valid['labels']\n",
    "X_test, y_test = test['features'], test['labels']"
   ]
  },
  {
   "cell_type": "markdown",
   "metadata": {},
   "source": [
    "---\n",
    "\n",
    "## Step 1: Dataset Summary & Exploration\n",
    "\n",
    "The pickled data is a dictionary with 4 key/value pairs:\n",
    "\n",
    "- `'features'` is a 4D array containing raw pixel data of the traffic sign images, (num examples, width, height, channels).\n",
    "- `'labels'` is a 1D array containing the label/class id of the traffic sign. The file `signnames.csv` contains id -> name mappings for each id.\n",
    "- `'sizes'` is a list containing tuples, (width, height) representing the original width and height the image.\n",
    "- `'coords'` is a list containing tuples, (x1, y1, x2, y2) representing coordinates of a bounding box around the sign in the image. **THESE COORDINATES ASSUME THE ORIGINAL IMAGE. THE PICKLED DATA CONTAINS RESIZED VERSIONS (32 by 32) OF THESE IMAGES**\n",
    "\n",
    "Complete the basic data summary below. Use python, numpy and/or pandas methods to calculate the data summary rather than hard coding the results. For example, the [pandas shape method](http://pandas.pydata.org/pandas-docs/stable/generated/pandas.DataFrame.shape.html) might be useful for calculating some of the summary results. "
   ]
  },
  {
   "cell_type": "markdown",
   "metadata": {},
   "source": [
    "### Provide a Basic Summary of the Data Set Using Python, Numpy and/or Pandas"
   ]
  },
  {
   "cell_type": "code",
   "execution_count": 2,
   "metadata": {},
   "outputs": [
    {
     "name": "stdout",
     "output_type": "stream",
     "text": [
      "4410\n",
      "Number of training examples = 34799\n",
      "Number of testing examples = 12630\n",
      "Image data shape = (32, 32, 3)\n",
      "Number of classes = 43\n"
     ]
    }
   ],
   "source": [
    "### Replace each question mark with the appropriate value. \n",
    "### Use python, pandas or numpy methods rather than hard coding the results\n",
    "import pandas as pd\n",
    "\n",
    "# TODO: Number of training examples\n",
    "X_train_shape = X_train.shape\n",
    "n_train= X_train_shape[0]\n",
    "\n",
    "# TODO: Number of validation examples\n",
    "X_valid_shape = X_valid.shape\n",
    "n_validation = X_valid_shape[0]\n",
    "print(n_validation)\n",
    "\n",
    "# TODO: Number of testing examples.\n",
    "X_test_shape = X_test.shape\n",
    "n_test = X_test_shape[0]\n",
    "\n",
    "# TODO: What's the shape of an traffic sign image?\n",
    "image_shape = (X_train.shape[1],X_train.shape[2],X_train.shape[3])\n",
    "\n",
    "# TODO: How many unique classes/labels there are in the dataset.\n",
    "tf = pd.DataFrame(y_train)\n",
    "n_classes = len(pd.value_counts(y_train))\n",
    "\n",
    "print(\"Number of training examples =\", n_train)\n",
    "print(\"Number of testing examples =\", n_test)\n",
    "print(\"Image data shape =\", image_shape)\n",
    "print(\"Number of classes =\", n_classes)"
   ]
  },
  {
   "cell_type": "markdown",
   "metadata": {},
   "source": [
    "### Include an exploratory visualization of the dataset"
   ]
  },
  {
   "cell_type": "markdown",
   "metadata": {},
   "source": [
    "Visualize the German Traffic Signs Dataset using the pickled file(s). This is open ended, suggestions include: plotting traffic sign images, plotting the count of each sign, etc. \n",
    "\n",
    "The [Matplotlib](http://matplotlib.org/) [examples](http://matplotlib.org/examples/index.html) and [gallery](http://matplotlib.org/gallery.html) pages are a great resource for doing visualizations in Python.\n",
    "\n",
    "**NOTE:** It's recommended you start with something simple first. If you wish to do more, come back to it after you've completed the rest of the sections. It can be interesting to look at the distribution of classes in the training, validation and test set. Is the distribution the same? Are there more examples of some classes than others?"
   ]
  },
  {
   "cell_type": "code",
   "execution_count": 3,
   "metadata": {},
   "outputs": [
    {
     "name": "stdout",
     "output_type": "stream",
     "text": [
      "2.0.2\n",
      "(32, 32, 3)\n",
      "(32, 32, 3)\n",
      "(32, 32)\n",
      "(32, 32)\n"
     ]
    },
    {
     "data": {
      "text/plain": [
       "<matplotlib.image.AxesImage at 0x127dbbb38>"
      ]
     },
     "execution_count": 3,
     "metadata": {},
     "output_type": "execute_result"
    },
    {
     "data": {
      "image/png": "[encoded data removed]",
      "text/plain": [
       "<matplotlib.figure.Figure at 0x12129e668>"
      ]
     },
     "metadata": {},
     "output_type": "display_data"
    },
    {
     "data": {
      "image/png": "[encoded data removed]",
      "text/plain": [
       "<matplotlib.figure.Figure at 0x125c9fb00>"
      ]
     },
     "metadata": {},
     "output_type": "display_data"
    },
    {
     "data": {
      "image/png": "[encoded data removed]",
      "text/plain": [
       "<matplotlib.figure.Figure at 0x127d1d2b0>"
      ]
     },
     "metadata": {},
     "output_type": "display_data"
    }
   ],
   "source": [
    "### Data exploration visualization code goes here.\n",
    "### Feel free to use as many code cells as needed.\n",
    "import matplotlib\n",
    "import matplotlib.pyplot as plt\n",
    "# Visualizations will be shown in the notebook.\n",
    "%matplotlib inline\n",
    "\n",
    "print(matplotlib.__version__)\n",
    "\n",
    "import cv2\n",
    "import numpy as np\n",
    "\n",
    "index = 100\n",
    "\n",
    "image = X_train[index]\n",
    "print((X_train[index]).shape)\n",
    "plt.figure(figsize=[2,2])\n",
    "plt.imshow(image)\n",
    "\n",
    "# trans to gray image\n",
    "X_train_gray = np.copy(image)\n",
    "print((X_train_gray).shape)\n",
    "X_train_gray = cv2.cvtColor(X_train_gray, cv2.COLOR_RGB2GRAY)\n",
    "print((X_train_gray).shape)\n",
    "plt.figure(figsize=[2,2])\n",
    "print((X_train_gray).shape)\n",
    "plt.imshow(X_train_gray,cmap='gray')\n",
    "#print(X_train_gray.shape)\n",
    "\n",
    "image_normal = np.copy(image)\n",
    "image_normal = (X_train[index]-128)/128\n",
    "plt.figure(figsize=[2,2])\n",
    "plt.imshow(image_normal,cmap='gray')\n",
    "#print(X_train[index])"
   ]
  },
  {
   "cell_type": "markdown",
   "metadata": {},
   "source": [
    "----\n",
    "\n",
    "## Step 2: Design and Test a Model Architecture\n",
    "\n",
    "Design and implement a deep learning model that learns to recognize traffic signs. Train and test your model on the [German Traffic Sign Dataset](http://benchmark.ini.rub.de/?section=gtsrb&subsection=dataset).\n",
    "\n",
    "The LeNet-5 implementation shown in the [classroom](https://classroom.udacity.com/nanodegrees/nd013/parts/fbf77062-5703-404e-b60c-95b78b2f3f9e/modules/6df7ae49-c61c-4bb2-a23e-6527e69209ec/lessons/601ae704-1035-4287-8b11-e2c2716217ad/concepts/d4aca031-508f-4e0b-b493-e7b706120f81) at the end of the CNN lesson is a solid starting point. You'll have to change the number of classes and possibly the preprocessing, but aside from that it's plug and play! \n",
    "\n",
    "With the LeNet-5 solution from the lecture, you should expect a validation set accuracy of about 0.89. To meet specifications, the validation set accuracy will need to be at least 0.93. It is possible to get an even higher accuracy, but 0.93 is the minimum for a successful project submission. \n",
    "\n",
    "There are various aspects to consider when thinking about this problem:\n",
    "\n",
    "- Neural network architecture (is the network over or underfitting?)\n",
    "- Play around preprocessing techniques (normalization, rgb to grayscale, etc)\n",
    "- Number of examples per label (some have more than others).\n",
    "- Generate fake data.\n",
    "\n",
    "Here is an example of a [published baseline model on this problem](http://yann.lecun.com/exdb/publis/pdf/sermanet-ijcnn-11.pdf). It's not required to be familiar with the approach used in the paper but, it's good practice to try to read papers like these."
   ]
  },
  {
   "cell_type": "markdown",
   "metadata": {},
   "source": [
    "### Pre-process the Data Set (normalization, grayscale, etc.)"
   ]
  },
  {
   "cell_type": "markdown",
   "metadata": {},
   "source": [
    "Minimally, the image data should be normalized so that the data has mean zero and equal variance. For image data, `(pixel - 128)/ 128` is a quick way to approximately normalize the data and can be used in this project. \n",
    "\n",
    "Other pre-processing steps are optional. You can try different techniques to see if it improves performance. \n",
    "\n",
    "Use the code cell (or multiple code cells, if necessary) to implement the first step of your project."
   ]
  },
  {
   "cell_type": "code",
   "execution_count": 4,
   "metadata": {},
   "outputs": [
    {
     "name": "stdout",
     "output_type": "stream",
     "text": [
      "==>X_train[index] type     is <class 'numpy.ndarray'>\n",
      "==>X_train[index] shape    is  (32, 32, 3)\n",
      "(34799, 32, 32, 3)\n",
      "-------------------------------------------\n",
      "(34799, 32, 32)\n",
      "==>X_train_ndarray_3D[index] type     is <class 'numpy.ndarray'>\n",
      "==>X_train_ndarray_3D[index] shape    is  (32, 32)\n"
     ]
    },
    {
     "data": {
      "image/png": "[encoded data removed]",
      "text/plain": [
       "<matplotlib.figure.Figure at 0x12e6ace10>"
      ]
     },
     "metadata": {},
     "output_type": "display_data"
    },
    {
     "data": {
      "image/png": "[encoded data removed]",
      "text/plain": [
       "<matplotlib.figure.Figure at 0x12e6f8e80>"
      ]
     },
     "metadata": {},
     "output_type": "display_data"
    }
   ],
   "source": [
    "### Preprocess the data here. It is required to normalize the data. Other preprocessing steps could include \n",
    "### converting to grayscale, etc.\n",
    "### Feel free to use as many code cells as needed.\n",
    "import tensorflow as tf\n",
    "\n",
    "print(\"==>X_train[index] type     is\", type(X_train[index]))\n",
    "print(\"==>X_train[index] shape    is \",(X_train[index]).shape)\n",
    "plt.figure(figsize=[2,2])\n",
    "plt.imshow(X_train[index])\n",
    "#grayImage = cv2.cvtColor(image_array, cv2.COLOR_RGB2GRAY)\n",
    "#print(grayImage.shape);\n",
    "print(X_train.shape)\n",
    "print(\"-------------------------------------------\")\n",
    "\n",
    "# The input shape is [34799,32,32,3], type is numpy.ndarray\n",
    "# The output shape is [34799,32,32,1], type is tensor\n",
    "X_train_tensor_gray_4D = tf.image.rgb_to_grayscale(X_train)\n",
    "X_valid_tensor_gray_4D = tf.image.rgb_to_grayscale(X_valid)\n",
    "#X_test_tensor_gray_4D = tf.image.rgb_to_grayscale(X_test)\n",
    "\n",
    "# reshape to [34799,32,32]\n",
    "X_train_tensor_gray_3D = tf.reshape(X_train_tensor_gray_4D,[n_train,image_shape[0],image_shape[1]])\n",
    "\n",
    "\n",
    "with tf.Session() as sess:\n",
    "    sess.run(tf.global_variables_initializer())\n",
    "    # run session to get numpy.ndarray from tensor\n",
    "    X_train_ndarray_3D = sess.run(X_train_tensor_gray_3D)\n",
    "    X_train_ndarray_4D = sess.run(X_train_tensor_gray_4D)\n",
    "    X_valid_ndarray_4D = sess.run(X_valid_tensor_gray_4D)\n",
    "    #X_test_ndarray_4D = sess.run(X_test_tensor_gray_4D)\n",
    "    print(X_train_ndarray_3D.shape)\n",
    "    \n",
    "sess.close()\n",
    "\n",
    "print(\"==>X_train_ndarray_3D[index] type     is\", type(X_train_ndarray_3D[index]))\n",
    "print(\"==>X_train_ndarray_3D[index] shape    is \",(X_train_ndarray_3D[index]).shape)\n",
    "\n",
    "plt.figure(figsize=[2,2])\n",
    "plt.imshow(X_train_ndarray_3D[index], cmap= 'gray')\n",
    "\n",
    "# normalization\n",
    "X_train_ndarray_4D = (X_train_ndarray_4D - 128.0)/128.0\n",
    "X_valid_ndarray_4D = (X_valid_ndarray_4D - 128.0)/128.0\n",
    "#X_test_ndarray_4D = (X_test_ndarray_4D - 128)/128\n",
    "# print(X_train_ndarray_4D.shape)\n",
    "X_train_normal = (X_train - 128.0)/128.0\n",
    "X_valid_normal = (X_valid - 128.0)/128.0"
   ]
  },
  {
   "cell_type": "markdown",
   "metadata": {},
   "source": [
    "### Model Architecture"
   ]
  },
  {
   "cell_type": "code",
   "execution_count": 5,
   "metadata": {
    "collapsed": true
   },
   "outputs": [],
   "source": [
    "epoches = 80\n",
    "batch_size = 128\n",
    "rate = 0.004\n",
    "keep_prob = 0.8"
   ]
  },
  {
   "cell_type": "code",
   "execution_count": 6,
   "metadata": {
    "collapsed": true
   },
   "outputs": [],
   "source": [
    "model_path = './traffic_sign_classifier'"
   ]
  },
  {
   "cell_type": "code",
   "execution_count": 7,
   "metadata": {
    "collapsed": true
   },
   "outputs": [],
   "source": [
    "### Define your architecture here.\n",
    "### Feel free to use as many code cells as needed.\n",
    "\n",
    "import tensorflow as tf\n",
    "from tensorflow.contrib.layers import flatten \n",
    "\n",
    "def VarLeNet(x):\n",
    "    mu = 0\n",
    "    sigma = 0.03\n",
    "    \n",
    "    # Convolution. Input is [32,32,1], output is [28,28,6]\n",
    "    layer1_w = tf.Variable(tf.truncated_normal(shape=[5,5,1,6], mean = mu, stddev = sigma))\n",
    "    layer1_b = tf.Variable(tf.zeros(6))\n",
    "    layer1_conv = tf.nn.conv2d(x,layer1_w,[1,1,1,1],'VALID') + layer1_b    \n",
    "    layer1_relu = tf.nn.relu(layer1_conv) # Activation\n",
    "    # Pooling. Input is [28,28,6], output is [14,14,6]\n",
    "    layer1_pool = tf.nn.max_pool(layer1_relu,[1,2,2,1],[1,2,2,1],'VALID')\n",
    "    \n",
    "    # Convolution. output is [10,10,16]\n",
    "    layer2_w = tf.Variable(tf.truncated_normal(shape = [5,5,6,16], mean= mu, stddev= sigma))\n",
    "    layer2_b = tf.Variable(tf.zeros(16))\n",
    "    layer2_conv = tf.nn.conv2d(layer1_pool,layer2_w, [1,1,1,1],'VALID') + layer2_b\n",
    "    layer2_relu = tf.nn.relu(layer2_conv)\n",
    "    # Pooling. output is [5,5,16]\n",
    "    layer2_pool = tf.nn.max_pool(layer2_relu,[1,2,2,1],[1,2,2,1],'VALID')  \n",
    "    layer2_flatten = flatten(layer2_pool)\n",
    "    \n",
    "    # Output is 120\n",
    "    layer3_w = tf.Variable(tf.truncated_normal([400,120], mean= mu, stddev= sigma))\n",
    "    layer3_b = tf.Variable(tf.zeros(120))\n",
    "    layer3_fc = tf.add(tf.matmul(layer2_flatten, layer3_w), layer3_b)\n",
    "    layer3_relu = tf.nn.relu(layer3_fc)\n",
    "    \n",
    "    # Fully connected. Output is 84\n",
    "    layer4_w = tf.Variable(tf.truncated_normal([120,84], mean= mu, stddev= sigma))\n",
    "    layer4_b = tf.Variable(tf.zeros(84))\n",
    "    layer4_fc = tf.add(tf.matmul(layer3_relu,layer4_w), layer4_b)\n",
    "    layer4_relu = tf.nn.relu(layer4_fc)\n",
    "    layer4_drop = tf.nn.dropout(layer4_relu, keep_prob)\n",
    "\n",
    "    # Fully Connected. Output is 43\n",
    "    layer5_w = tf.Variable(tf.truncated_normal([84,43], mean= mu, stddev= sigma))\n",
    "    layer5_b = tf.Variable(tf.zeros(43))\n",
    "    logits = tf.add(tf.matmul(layer4_drop,layer5_w), layer5_b,name='logits')\n",
    "    \n",
    "    return logits\n",
    "    "
   ]
  },
  {
   "cell_type": "code",
   "execution_count": 8,
   "metadata": {},
   "outputs": [],
   "source": [
    "tf.reset_default_graph()\n",
    "\n",
    "x = tf.placeholder(tf.float32, (None, image_shape[0], image_shape[1],1), name = 'x')\n",
    "y = tf.placeholder(tf.int32, (None), name='y')\n",
    "one_hot_y = tf.one_hot(y,n_classes)"
   ]
  },
  {
   "cell_type": "code",
   "execution_count": 9,
   "metadata": {},
   "outputs": [],
   "source": [
    "logits = VarLeNet(x)\n",
    "# loss and optimizer\n",
    "cross_entropy = tf.nn.softmax_cross_entropy_with_logits(logits= logits, labels= one_hot_y)\n",
    "loss = tf.reduce_mean(cross_entropy)\n",
    "optimizer = tf.train.AdamOptimizer().minimize(loss)\n",
    "# Accuracy\n",
    "correct_prediction = tf.equal(tf.argmax(logits,1), tf.argmax(one_hot_y,1))\n",
    "accuracy_operation = tf.reduce_mean(tf.cast(correct_prediction, tf.float32), name= 'accuracy')"
   ]
  },
  {
   "cell_type": "code",
   "execution_count": 10,
   "metadata": {},
   "outputs": [],
   "source": [
    "saver = tf.train.Saver()"
   ]
  },
  {
   "cell_type": "code",
   "execution_count": 11,
   "metadata": {
    "collapsed": true
   },
   "outputs": [],
   "source": [
    "def evaluate(X_data, y_data):\n",
    "    num_examples = len(X_data)\n",
    "    # print(num_examples)\n",
    "    total_accuracy = 0\n",
    "    sess = tf.get_default_session()\n",
    "    for offset in range(0, num_examples, batch_size):\n",
    "        batch_x, batch_y = X_data[offset:offset+batch_size], y_data[offset:offset+ batch_size]\n",
    "        accuracy = sess.run(accuracy_operation, feed_dict={x: batch_x, y: batch_y})\n",
    "        total_accuracy += (accuracy * len(batch_x))\n",
    "    return total_accuracy / num_examples"
   ]
  },
  {
   "cell_type": "markdown",
   "metadata": {},
   "source": [
    "### Train, Validate and Test the Model"
   ]
  },
  {
   "cell_type": "markdown",
   "metadata": {},
   "source": [
    "A validation set can be used to assess how well the model is performing. A low accuracy on the training and validation\n",
    "sets imply underfitting. A high accuracy on the training set but low accuracy on the validation set implies overfitting."
   ]
  },
  {
   "cell_type": "code",
   "execution_count": 12,
   "metadata": {
    "scrolled": true
   },
   "outputs": [
    {
     "name": "stdout",
     "output_type": "stream",
     "text": [
      "Start Training ...\n",
      "EPOCH 1 ...\n",
      "Validation Accuracy = 0.149\n",
      "EPOCH 2 ...\n",
      "Validation Accuracy = 0.566\n",
      "EPOCH 3 ...\n",
      "Validation Accuracy = 0.717\n",
      "EPOCH 4 ...\n",
      "Validation Accuracy = 0.771\n",
      "EPOCH 5 ...\n",
      "Validation Accuracy = 0.800\n",
      "EPOCH 6 ...\n",
      "Validation Accuracy = 0.818\n",
      "EPOCH 7 ...\n",
      "Validation Accuracy = 0.837\n",
      "EPOCH 8 ...\n",
      "Validation Accuracy = 0.858\n",
      "EPOCH 9 ...\n",
      "Validation Accuracy = 0.868\n",
      "EPOCH 10 ...\n",
      "Validation Accuracy = 0.870\n",
      "EPOCH 11 ...\n",
      "Validation Accuracy = 0.875\n",
      "EPOCH 12 ...\n",
      "Validation Accuracy = 0.885\n",
      "EPOCH 13 ...\n",
      "Validation Accuracy = 0.873\n",
      "EPOCH 14 ...\n",
      "Validation Accuracy = 0.880\n",
      "EPOCH 15 ...\n",
      "Validation Accuracy = 0.891\n",
      "EPOCH 16 ...\n",
      "Validation Accuracy = 0.881\n",
      "EPOCH 17 ...\n",
      "Validation Accuracy = 0.897\n",
      "EPOCH 18 ...\n",
      "Validation Accuracy = 0.900\n",
      "EPOCH 19 ...\n",
      "Validation Accuracy = 0.883\n",
      "EPOCH 20 ...\n",
      "Validation Accuracy = 0.898\n",
      "EPOCH 21 ...\n",
      "Validation Accuracy = 0.904\n",
      "EPOCH 22 ...\n",
      "Validation Accuracy = 0.890\n",
      "EPOCH 23 ...\n",
      "Validation Accuracy = 0.906\n",
      "EPOCH 24 ...\n",
      "Validation Accuracy = 0.902\n",
      "EPOCH 25 ...\n",
      "Validation Accuracy = 0.898\n",
      "EPOCH 26 ...\n",
      "Validation Accuracy = 0.903\n",
      "EPOCH 27 ...\n",
      "Validation Accuracy = 0.904\n",
      "EPOCH 28 ...\n",
      "Validation Accuracy = 0.906\n",
      "EPOCH 29 ...\n",
      "Validation Accuracy = 0.908\n",
      "EPOCH 30 ...\n",
      "Validation Accuracy = 0.900\n",
      "EPOCH 31 ...\n",
      "Validation Accuracy = 0.912\n",
      "EPOCH 32 ...\n",
      "Validation Accuracy = 0.910\n",
      "EPOCH 33 ...\n",
      "Validation Accuracy = 0.910\n",
      "EPOCH 34 ...\n",
      "Validation Accuracy = 0.919\n",
      "EPOCH 35 ...\n",
      "Validation Accuracy = 0.914\n",
      "EPOCH 36 ...\n",
      "Validation Accuracy = 0.902\n",
      "EPOCH 37 ...\n",
      "Validation Accuracy = 0.917\n",
      "EPOCH 38 ...\n",
      "Validation Accuracy = 0.913\n",
      "EPOCH 39 ...\n",
      "Validation Accuracy = 0.913\n",
      "EPOCH 40 ...\n",
      "Validation Accuracy = 0.913\n",
      "EPOCH 41 ...\n",
      "Validation Accuracy = 0.922\n",
      "EPOCH 42 ...\n",
      "Validation Accuracy = 0.919\n",
      "EPOCH 43 ...\n",
      "Validation Accuracy = 0.916\n",
      "EPOCH 44 ...\n",
      "Validation Accuracy = 0.911\n",
      "EPOCH 45 ...\n",
      "Validation Accuracy = 0.915\n",
      "EPOCH 46 ...\n",
      "Validation Accuracy = 0.917\n",
      "EPOCH 47 ...\n",
      "Validation Accuracy = 0.917\n",
      "EPOCH 48 ...\n",
      "Validation Accuracy = 0.919\n",
      "EPOCH 49 ...\n",
      "Validation Accuracy = 0.929\n",
      "EPOCH 50 ...\n",
      "Validation Accuracy = 0.923\n",
      "EPOCH 51 ...\n",
      "Validation Accuracy = 0.930\n",
      "EPOCH 52 ...\n",
      "Validation Accuracy = 0.929\n",
      "EPOCH 53 ...\n",
      "Validation Accuracy = 0.913\n",
      "EPOCH 54 ...\n",
      "Validation Accuracy = 0.913\n",
      "EPOCH 55 ...\n",
      "Validation Accuracy = 0.911\n",
      "EPOCH 56 ...\n",
      "Validation Accuracy = 0.910\n",
      "EPOCH 57 ...\n",
      "Validation Accuracy = 0.921\n",
      "EPOCH 58 ...\n",
      "Validation Accuracy = 0.909\n",
      "EPOCH 59 ...\n",
      "Validation Accuracy = 0.918\n",
      "EPOCH 60 ...\n",
      "Validation Accuracy = 0.920\n",
      "EPOCH 61 ...\n",
      "Validation Accuracy = 0.916\n",
      "EPOCH 62 ...\n",
      "Validation Accuracy = 0.922\n",
      "EPOCH 63 ...\n",
      "Validation Accuracy = 0.922\n",
      "EPOCH 64 ...\n",
      "Validation Accuracy = 0.921\n",
      "EPOCH 65 ...\n",
      "Validation Accuracy = 0.926\n",
      "EPOCH 66 ...\n",
      "Validation Accuracy = 0.930\n",
      "EPOCH 67 ...\n",
      "Validation Accuracy = 0.931\n",
      "EPOCH 68 ...\n",
      "Validation Accuracy = 0.927\n",
      "EPOCH 69 ...\n",
      "Validation Accuracy = 0.927\n",
      "EPOCH 70 ...\n",
      "Validation Accuracy = 0.923\n",
      "EPOCH 71 ...\n",
      "Validation Accuracy = 0.928\n",
      "EPOCH 72 ...\n",
      "Validation Accuracy = 0.922\n",
      "EPOCH 73 ...\n",
      "Validation Accuracy = 0.928\n",
      "EPOCH 74 ...\n",
      "Validation Accuracy = 0.924\n",
      "EPOCH 75 ...\n",
      "Validation Accuracy = 0.925\n",
      "EPOCH 76 ...\n",
      "Validation Accuracy = 0.922\n",
      "EPOCH 77 ...\n",
      "Validation Accuracy = 0.926\n",
      "EPOCH 78 ...\n",
      "Validation Accuracy = 0.926\n",
      "EPOCH 79 ...\n",
      "Validation Accuracy = 0.932\n",
      "EPOCH 80 ...\n",
      "Validation Accuracy = 0.933\n",
      "Model saved\n"
     ]
    }
   ],
   "source": [
    "### Train your model here.\n",
    "### Calculate and report the accuracy on the training and validation set.\n",
    "### Once a final model architecture is selected, \n",
    "### the accuracy on the test set should be calculated and reported as well.\n",
    "### Feel free to use as many code cells as needed.\n",
    "from sklearn.utils import shuffle\n",
    "\n",
    "# print(X_train_ndarray_4D.shape)\n",
    "with tf.Session() as sess:\n",
    "    sess.run(tf.global_variables_initializer())\n",
    "    print(\"Start Training ...\")\n",
    "    # Training cycle\n",
    "    for i in range(epoches):\n",
    "        X_train_ndarray_4D, y_train = shuffle(X_train_ndarray_4D, y_train)\n",
    "        # X_train_ndarray_4D, y_train = shuffle(X_train_normal, y_train)\n",
    "        for j in range(0, n_train, batch_size):\n",
    "            start = j\n",
    "            end = start + batch_size\n",
    "            batch_features, batch_labels = X_train_ndarray_4D[start : end], y_train[start : end]\n",
    "            if(j==1):\n",
    "                print(batch_labels)\n",
    "            sess.run(optimizer, feed_dict= {x: batch_features, y: batch_labels})\n",
    "            \n",
    "        validation_accuracy = evaluate(X_valid_ndarray_4D,y_valid)\n",
    "        print(\"EPOCH {} ...\".format(i + 1))\n",
    "        print(\"Validation Accuracy = {:.3f}\".format(validation_accuracy))\n",
    "        \n",
    "    saver.save(sess,model_path)\n",
    "    print(\"Model saved\")"
   ]
  },
  {
   "cell_type": "code",
   "execution_count": 25,
   "metadata": {},
   "outputs": [
    {
     "name": "stdout",
     "output_type": "stream",
     "text": [
      "(12630, 32, 32, 1)\n"
     ]
    }
   ],
   "source": [
    "X_test_tensor_4D = tf.image.rgb_to_grayscale(X_test)\n",
    "\n",
    "with tf.Session() as sess:\n",
    "    X_test_ndarray_4D = sess.run(X_test_tensor_4D) \n",
    "print(X_test_ndarray_4D.shape)\n",
    "X_test_ndarray_4D = ( X_test_ndarray_4D - 128.0) / 128.0"
   ]
  },
  {
   "cell_type": "code",
   "execution_count": 26,
   "metadata": {},
   "outputs": [
    {
     "name": "stdout",
     "output_type": "stream",
     "text": [
      "Test Accuracy = 0.914\n"
     ]
    }
   ],
   "source": [
    "with tf.Session() as sess:\n",
    "    saver.restore(sess, tf.train.latest_checkpoint('.'))\n",
    "\n",
    "    test_accuracy = evaluate(X_test_ndarray_4D, y_test)\n",
    "    print(\"Test Accuracy = {:.3f}\".format(test_accuracy))"
   ]
  },
  {
   "cell_type": "markdown",
   "metadata": {},
   "source": [
    "---\n",
    "\n",
    "## Step 3: Test a Model on New Images\n",
    "\n",
    "To give yourself more insight into how your model is working, download at least five pictures of German traffic signs from the web and use your model to predict the traffic sign type.\n",
    "\n",
    "You may find `signnames.csv` useful as it contains mappings from the class id (integer) to the actual sign name."
   ]
  },
  {
   "cell_type": "markdown",
   "metadata": {},
   "source": [
    "### Load and Output the Images"
   ]
  },
  {
   "cell_type": "code",
   "execution_count": 27,
   "metadata": {},
   "outputs": [],
   "source": [
    "### Load the images and plot them here.\n",
    "### Feel free to use as many code cells as needed.\n",
    "samples_test_label = [28,18,25,4,33]"
   ]
  },
  {
   "cell_type": "code",
   "execution_count": 28,
   "metadata": {},
   "outputs": [
    {
     "data": {
      "text/plain": [
       "<matplotlib.image.AxesImage at 0x12ee50550>"
      ]
     },
     "execution_count": 28,
     "metadata": {},
     "output_type": "execute_result"
    },
    {
     "data": {
      "image/png": "[encoded data removed]",
      "text/plain": [
       "<matplotlib.figure.Figure at 0x1213bb2b0>"
      ]
     },
     "metadata": {},
     "output_type": "display_data"
    }
   ],
   "source": [
    "image = plt.imread('./test_samples_from_web/T_children_crossing_32x32.jpg')\n",
    "\n",
    "samples_test_feature = [image]*5\n",
    "#plt.figure(figsize=[2,2]) \n",
    "#plt.imshow(image)\n",
    "\n",
    "plt.figure(figsize=[2,2])\n",
    "plt.imshow(samples_test_feature[0])"
   ]
  },
  {
   "cell_type": "code",
   "execution_count": 29,
   "metadata": {},
   "outputs": [
    {
     "data": {
      "text/plain": [
       "<matplotlib.image.AxesImage at 0x12e8baa20>"
      ]
     },
     "execution_count": 29,
     "metadata": {},
     "output_type": "execute_result"
    },
    {
     "data": {
      "image/png": "[encoded data removed]",
      "text/plain": [
       "<matplotlib.figure.Figure at 0x12ee50e48>"
      ]
     },
     "metadata": {},
     "output_type": "display_data"
    }
   ],
   "source": [
    "image = plt.imread('./test_samples_from_web/T_general_caution_32x32.jpg')\n",
    "#plt.figure(figsize=[2,2]) \n",
    "#plt.imshow(image)\n",
    "\n",
    "samples_test_feature[1] = image\n",
    "plt.figure(figsize=[2,2])\n",
    "plt.imshow(samples_test_feature[1])"
   ]
  },
  {
   "cell_type": "code",
   "execution_count": 30,
   "metadata": {},
   "outputs": [
    {
     "data": {
      "text/plain": [
       "<matplotlib.image.AxesImage at 0x12e8d3978>"
      ]
     },
     "execution_count": 30,
     "metadata": {},
     "output_type": "execute_result"
    },
    {
     "data": {
      "image/png": "[encoded data removed]",
      "text/plain": [
       "<matplotlib.figure.Figure at 0x127dfbb70>"
      ]
     },
     "metadata": {},
     "output_type": "display_data"
    }
   ],
   "source": [
    "image = plt.imread('./test_samples_from_web/T_road_work_32x32.jpg')\n",
    "#plt.figure(figsize=[2,2]) \n",
    "#plt.imshow(image)\n",
    "\n",
    "samples_test_feature[2] = image\n",
    "plt.figure(figsize=[2,2])\n",
    "plt.imshow(samples_test_feature[2])"
   ]
  },
  {
   "cell_type": "code",
   "execution_count": 31,
   "metadata": {},
   "outputs": [
    {
     "data": {
      "text/plain": [
       "<matplotlib.image.AxesImage at 0x12ec887f0>"
      ]
     },
     "execution_count": 31,
     "metadata": {},
     "output_type": "execute_result"
    },
    {
     "data": {
      "image/png": "[encoded data removed]",
      "text/plain": [
       "<matplotlib.figure.Figure at 0x12f4ede10>"
      ]
     },
     "metadata": {},
     "output_type": "display_data"
    }
   ],
   "source": [
    "image = plt.imread('./test_samples_from_web/T_speed_limit _70km_32x32.jpg')\n",
    "#plt.figure(figsize=[2,2]) \n",
    "#plt.imshow(image)\n",
    "\n",
    "samples_test_feature[3] = image\n",
    "plt.figure(figsize=[2,2])\n",
    "plt.imshow(samples_test_feature[3])"
   ]
  },
  {
   "cell_type": "code",
   "execution_count": 32,
   "metadata": {},
   "outputs": [
    {
     "data": {
      "text/plain": [
       "<matplotlib.image.AxesImage at 0x12edf8748>"
      ]
     },
     "execution_count": 32,
     "metadata": {},
     "output_type": "execute_result"
    },
    {
     "data": {
      "image/png": "[encoded data removed]",
      "text/plain": [
       "<matplotlib.figure.Figure at 0x127e0f2b0>"
      ]
     },
     "metadata": {},
     "output_type": "display_data"
    }
   ],
   "source": [
    "image = plt.imread('./test_samples_from_web/T_turn_right_ahead_32x32.jpg')\n",
    "#plt.figure(figsize=[2,2]) \n",
    "#plt.imshow(image)\n",
    "\n",
    "samples_test_feature[4] = image\n",
    "plt.figure(figsize=[2,2])\n",
    "plt.imshow(samples_test_feature[4])"
   ]
  },
  {
   "cell_type": "markdown",
   "metadata": {},
   "source": [
    "### Predict the Sign Type for Each Image"
   ]
  },
  {
   "cell_type": "code",
   "execution_count": 33,
   "metadata": {},
   "outputs": [],
   "source": [
    "### Run the predictions here and use the model to output the prediction for each image.\n",
    "### Make sure to pre-process the images with the same pre-processing pipeline used earlier.\n",
    "### Feel free to use as many code cells as needed.\n",
    "\n",
    "samples_test_tensor_4D = tf.image.rgb_to_grayscale(np.array(samples_test_feature))\n",
    "\n",
    "with tf.Session() as sess:\n",
    "    samples_test_ndarray = sess.run(samples_test_tensor_4D)"
   ]
  },
  {
   "cell_type": "code",
   "execution_count": 34,
   "metadata": {},
   "outputs": [],
   "source": [
    "samples_test_ndarray = (samples_test_ndarray - 128.0)/128.0"
   ]
  },
  {
   "cell_type": "code",
   "execution_count": 35,
   "metadata": {},
   "outputs": [],
   "source": [
    "# Load Model\n",
    "with tf.Session() as sess:\n",
    "    #loader = tf.train.import_meta_graph(model_path + '.meta')\n",
    "    #loader.restore(sess, model_path)\n",
    "    saver.restore(sess, tf.train.latest_checkpoint('.'))\n",
    "    # Get tensor from loaded model\n",
    "    #loaded_x = loaded_graph.get_tensor_by_name('x:0')\n",
    "    #loaded_y = loaded_graph.get_tensor_by_name('y:0')\n",
    "    #loaded_logits = loaded_graph.get_tensor_by_name('logits:0')\n",
    "    #loaded_accuray = loaded_graph.get_tensor_by_name('accuracy:0')\n",
    "    # sess.run(tf.global_variables_initializer())\n",
    "    \n",
    "    samples_test_logits = sess.run('logits:0', feed_dict={'x:0': samples_test_ndarray})\n"
   ]
  },
  {
   "cell_type": "code",
   "execution_count": 36,
   "metadata": {},
   "outputs": [
    {
     "name": "stdout",
     "output_type": "stream",
     "text": [
      "The sample 1 \n",
      "Real    Label is Children crossing\n",
      "The logit is 5.741 \n",
      "Tensor(\"Reshape_14:0\", shape=(43,), dtype=float32)\n",
      "Predict Label is Right-of-way at the next intersection\n",
      "--------------------------------------------\n",
      "The sample 2 \n",
      "Real    Label is General caution\n",
      "The logit is 42.407 \n",
      "Tensor(\"Reshape_16:0\", shape=(43,), dtype=float32)\n",
      "Predict Label is General caution\n",
      "--------------------------------------------\n",
      "The sample 3 \n",
      "Real    Label is Road work\n",
      "The logit is 9.465 \n",
      "Tensor(\"Reshape_18:0\", shape=(43,), dtype=float32)\n",
      "Predict Label is Road work\n",
      "--------------------------------------------\n",
      "The sample 4 \n",
      "Real    Label is Speed limit (70km/h)\n",
      "The logit is 46.655 \n",
      "Tensor(\"Reshape_20:0\", shape=(43,), dtype=float32)\n",
      "Predict Label is Speed limit (70km/h)\n",
      "--------------------------------------------\n",
      "The sample 5 \n",
      "Real    Label is Turn right ahead\n",
      "The logit is 15.438 \n",
      "Tensor(\"Reshape_22:0\", shape=(43,), dtype=float32)\n",
      "Predict Label is Turn right ahead\n",
      "--------------------------------------------\n",
      "The total of right classification is 4\n"
     ]
    }
   ],
   "source": [
    "#print(test_samples_logits)\n",
    "signnames = pd.read_csv('./signnames.csv')\n",
    "\n",
    "i = 0\n",
    "n_samples = 5\n",
    "\n",
    "samples_right_num = 0\n",
    "for sample_logit in samples_test_logits:\n",
    "    max_logit = np.max(sample_logit)\n",
    "    max_logit_index = sample_logit.tolist().index(max_logit)\n",
    "    print(\"The sample {} \".format(i+1))\n",
    "    real_label = signnames.iloc[samples_test_label[i]]\n",
    "    print(\"Real    Label is {}\".format(real_label.values[1]))\n",
    "    predict_label = signnames.iloc[max_logit_index]\n",
    "    print(\"The logit is {:3.3f} \".format(max_logit))\n",
    "    print(tf.nn.softmax(sample_logit))\n",
    "    print(\"Predict Label is {}\".format(predict_label.values[1]))\n",
    "    print(\"--------------------------------------------\")\n",
    "    i = i + 1\n",
    "    if(real_label.values[1] == predict_label.values[1]):\n",
    "        samples_right_num = samples_right_num + 1\n",
    "        \n",
    "print(\"The total of right classification is {}\".format(samples_right_num))\n"
   ]
  },
  {
   "cell_type": "markdown",
   "metadata": {},
   "source": [
    "### Analyze Performance"
   ]
  },
  {
   "cell_type": "code",
   "execution_count": 37,
   "metadata": {},
   "outputs": [
    {
     "name": "stdout",
     "output_type": "stream",
     "text": [
      "The model predict accuracy is 80.00％\n"
     ]
    }
   ],
   "source": [
    "### Calculate the accuracy for these 5 new images. \n",
    "### For example, if the model predicted 1 out of 5 signs correctly, it's 20% accurate on these new images.\n",
    "sample_accuracy = samples_right_num/n_samples\n",
    "print(\"The model predict accuracy is {:3.2f}％\".format(sample_accuracy * 100.0))"
   ]
  },
  {
   "cell_type": "markdown",
   "metadata": {},
   "source": [
    "### Output Top 5 Softmax Probabilities For Each Image Found on the Web"
   ]
  },
  {
   "cell_type": "markdown",
   "metadata": {},
   "source": [
    "For each of the new images, print out the model's softmax probabilities to show the **certainty** of the model's predictions (limit the output to the top 5 probabilities for each image). [`tf.nn.top_k`](https://www.tensorflow.org/versions/r0.12/api_docs/python/nn.html#top_k) could prove helpful here. \n",
    "\n",
    "The example below demonstrates how tf.nn.top_k can be used to find the top k predictions for each image.\n",
    "\n",
    "`tf.nn.top_k` will return the values and indices (class ids) of the top k predictions. So if k=3, for each sign, it'll return the 3 largest probabilities (out of a possible 43) and the correspoding class ids.\n",
    "\n",
    "Take this numpy array as an example. The values in the array represent predictions. The array contains softmax probabilities for five candidate images with six possible classes. `tf.nn.top_k` is used to choose the three classes with the highest probability:\n",
    "\n",
    "```\n",
    "# (5, 6) array\n",
    "a = np.array([[ 0.24879643,  0.07032244,  0.12641572,  0.34763842,  0.07893497,\n",
    "         0.12789202],\n",
    "       [ 0.28086119,  0.27569815,  0.08594638,  0.0178669 ,  0.18063401,\n",
    "         0.15899337],\n",
    "       [ 0.26076848,  0.23664738,  0.08020603,  0.07001922,  0.1134371 ,\n",
    "         0.23892179],\n",
    "       [ 0.11943333,  0.29198961,  0.02605103,  0.26234032,  0.1351348 ,\n",
    "         0.16505091],\n",
    "       [ 0.09561176,  0.34396535,  0.0643941 ,  0.16240774,  0.24206137,\n",
    "         0.09155967]])\n",
    "```\n",
    "\n",
    "Running it through `sess.run(tf.nn.top_k(tf.constant(a), k=3))` produces:\n",
    "\n",
    "```\n",
    "TopKV2(values=array([[ 0.34763842,  0.24879643,  0.12789202],\n",
    "       [ 0.28086119,  0.27569815,  0.18063401],\n",
    "       [ 0.26076848,  0.23892179,  0.23664738],\n",
    "       [ 0.29198961,  0.26234032,  0.16505091],\n",
    "       [ 0.34396535,  0.24206137,  0.16240774]]), indices=array([[3, 0, 5],\n",
    "       [0, 1, 4],\n",
    "       [0, 5, 1],\n",
    "       [1, 3, 5],\n",
    "       [1, 4, 3]], dtype=int32))\n",
    "```\n",
    "\n",
    "Looking just at the first row we get `[ 0.34763842,  0.24879643,  0.12789202]`, you can confirm these are the 3 largest probabilities in `a`. You'll also notice `[3, 0, 5]` are the corresponding indices."
   ]
  },
  {
   "cell_type": "code",
   "execution_count": 38,
   "metadata": {},
   "outputs": [
    {
     "name": "stdout",
     "output_type": "stream",
     "text": [
      "TopKV2(values=array([[  9.97738242e-01,   2.26073316e-03,   9.60407988e-07,\n",
      "          7.56440812e-08,   3.81729937e-09],\n",
      "       [  1.00000000e+00,   4.34764568e-16,   4.52392191e-17,\n",
      "          4.61287285e-22,   8.26578396e-24],\n",
      "       [  7.05810130e-01,   2.94164270e-01,   2.42520418e-05,\n",
      "          1.22016547e-06,   9.45183203e-08],\n",
      "       [  1.00000000e+00,   1.30105526e-08,   7.73591803e-14,\n",
      "          2.31011726e-17,   9.19520917e-20],\n",
      "       [  7.90908813e-01,   2.09091261e-01,   4.97589214e-09,\n",
      "          2.63118277e-10,   1.39319433e-11]], dtype=float32), indices=array([[11, 20, 26, 28, 18],\n",
      "       [18, 12, 26, 30, 38],\n",
      "       [25, 22, 29, 33, 12],\n",
      "       [ 4,  8,  1,  7,  0],\n",
      "       [33,  1, 40,  0, 12]], dtype=int32))\n"
     ]
    }
   ],
   "source": [
    "### Print out the top five softmax probabilities for the predictions on the German traffic sign images found on the web. \n",
    "### Feel free to use as many code cells as needed.\n",
    "with tf.Session() as sess:\n",
    "    probilities = sess.run(tf.nn.top_k(tf.nn.softmax(samples_test_logits),k=5), feed_dict ={'x:0': samples_test_ndarray})\n",
    "    print(probilities)"
   ]
  },
  {
   "cell_type": "code",
   "execution_count": 40,
   "metadata": {},
   "outputs": [
    {
     "name": "stdout",
     "output_type": "stream",
     "text": [
      "[0.99773824, 0.0022607332, 9.6040799e-07, 7.5644081e-08, 3.8172994e-09]\n",
      "[1.0, 4.3476457e-16, 4.5239219e-17, 4.6128729e-22, 8.265784e-24]\n",
      "[0.70581013, 0.29416427, 2.4252042e-05, 1.2201655e-06, 9.451832e-08]\n",
      "[1.0, 1.3010553e-08, 7.735918e-14, 2.3101173e-17, 9.1952092e-20]\n",
      "[0.79090881, 0.20909126, 4.9758921e-09, 2.6311828e-10, 1.3931943e-11]\n"
     ]
    },
    {
     "data": {
      "image/png": "[encoded data removed]",
      "text/plain": [
       "<matplotlib.figure.Figure at 0x12f286550>"
      ]
     },
     "metadata": {},
     "output_type": "display_data"
    }
   ],
   "source": [
    "# Display image predictions\n",
    "\n",
    "fig, axies = plt.subplots(figsize = [10,10], nrows = 5, ncols = 2)\n",
    "fig.tight_layout()\n",
    "fig.subplots_adjust(left = 0.2, right = 2, hspace = 0.3)\n",
    "fig.suptitle('Softmax Predictions', fontsize = 20, y = 1.2)\n",
    "\n",
    "n_predictions = 5\n",
    "ind = np.arange(n_predictions)\n",
    "margin = 0.05\n",
    "width = (1. - 2. * margin)/n_predictions\n",
    "\n",
    "for i in range(n_samples):\n",
    "    axies[i][0].imshow(samples_test_feature[i])\n",
    "    axies[i][0].set_title(signnames.iloc[samples_test_label[i]].values[1])\n",
    "    axies[i][0].set_axis_off()\n",
    "\n",
    "    #print(probilities.indices[i])\n",
    "    lgs = [lg for lg in probilities.values[i]]\n",
    "    print(lgs)\n",
    "    lbs = [signnames.iloc[lb].values[1] for lb in probilities.indices[i]]\n",
    "\n",
    "    axies[i][1].barh(ind + margin, lgs[::], width)\n",
    "    axies[i][1].set_yticks(ind + margin)\n",
    "    axies[i][1].set_yticklabels(lbs)\n",
    "    axies[i][1].set_xticks([0,0.5,1.0])\n"
   ]
  },
  {
   "cell_type": "markdown",
   "metadata": {},
   "source": [
    "### Project Writeup\n",
    "\n",
    "Once you have completed the code implementation, document your results in a project writeup using this [template](https://github.com/udacity/CarND-Traffic-Sign-Classifier-Project/blob/master/writeup_template.md) as a guide. The writeup can be in a markdown or pdf file. "
   ]
  },
  {
   "cell_type": "markdown",
   "metadata": {},
   "source": [
    "> **Note**: Once you have completed all of the code implementations and successfully answered each question above, you may finalize your work by exporting the iPython Notebook as an HTML document. You can do this by using the menu above and navigating to  \\n\",\n",
    "    \"**File -> Download as -> HTML (.html)**. Include the finished document along with this notebook as your submission."
   ]
  },
  {
   "cell_type": "markdown",
   "metadata": {},
   "source": [
    "---\n",
    "\n",
    "## Step 4 (Optional): Visualize the Neural Network's State with Test Images\n",
    "\n",
    " This Section is not required to complete but acts as an additional excersise for understaning the output of a neural network's weights. While neural networks can be a great learning device they are often referred to as a black box. We can understand what the weights of a neural network look like better by plotting their feature maps. After successfully training your neural network you can see what it's feature maps look like by plotting the output of the network's weight layers in response to a test stimuli image. From these plotted feature maps, it's possible to see what characteristics of an image the network finds interesting. For a sign, maybe the inner network feature maps react with high activation to the sign's boundary outline or to the contrast in the sign's painted symbol.\n",
    "\n",
    " Provided for you below is the function code that allows you to get the visualization output of any tensorflow weight layer you want. The inputs to the function should be a stimuli image, one used during training or a new one you provided, and then the tensorflow variable name that represents the layer's state during the training process, for instance if you wanted to see what the [LeNet lab's](https://classroom.udacity.com/nanodegrees/nd013/parts/fbf77062-5703-404e-b60c-95b78b2f3f9e/modules/6df7ae49-c61c-4bb2-a23e-6527e69209ec/lessons/601ae704-1035-4287-8b11-e2c2716217ad/concepts/d4aca031-508f-4e0b-b493-e7b706120f81) feature maps looked like for it's second convolutional layer you could enter conv2 as the tf_activation variable.\n",
    "\n",
    "For an example of what feature map outputs look like, check out NVIDIA's results in their paper [End-to-End Deep Learning for Self-Driving Cars](https://devblogs.nvidia.com/parallelforall/deep-learning-self-driving-cars/) in the section Visualization of internal CNN State. NVIDIA was able to show that their network's inner weights had high activations to road boundary lines by comparing feature maps from an image with a clear path to one without. Try experimenting with a similar test to show that your trained network's weights are looking for interesting features, whether it's looking at differences in feature maps from images with or without a sign, or even what feature maps look like in a trained network vs a completely untrained one on the same sign image.\n",
    "\n",
    "<figure>\n",
    " <img src=\"visualize_cnn.png\" width=\"380\" alt=\"Combined Image\" />\n",
    " <figcaption>\n",
    " <p></p> \n",
    " <p style=\"text-align: center;\"> Your output should look something like this (above)</p> \n",
    " </figcaption>\n",
    "</figure>\n",
    " <p></p> \n"
   ]
  },
  {
   "cell_type": "code",
   "execution_count": null,
   "metadata": {
    "collapsed": true
   },
   "outputs": [],
   "source": [
    "### Visualize your network's feature maps here.\n",
    "### Feel free to use as many code cells as needed.\n",
    "\n",
    "# image_input: the test image being fed into the network to produce the feature maps\n",
    "# tf_activation: should be a tf variable name used during your training procedure that represents the calculated state of a specific weight layer\n",
    "# activation_min/max: can be used to view the activation contrast in more detail, by default matplot sets min and max to the actual min and max values of the output\n",
    "# plt_num: used to plot out multiple different weight feature map sets on the same block, just extend the plt number for each new feature map entry\n",
    "\n",
    "def outputFeatureMap(image_input, tf_activation, activation_min=-1, activation_max=-1 ,plt_num=1):\n",
    "    # Here make sure to preprocess your image_input in a way your network expects\n",
    "    # with size, normalization, ect if needed\n",
    "    # image_input =\n",
    "    # Note: x should be the same name as your network's tensorflow data placeholder variable\n",
    "    # If you get an error tf_activation is not defined it may be having trouble accessing the variable from inside a function\n",
    "    activation = tf_activation.eval(session=sess,feed_dict={x : image_input})\n",
    "    featuremaps = activation.shape[3]\n",
    "    plt.figure(plt_num, figsize=(15,15))\n",
    "    for featuremap in range(featuremaps):\n",
    "        plt.subplot(6,8, featuremap+1) # sets the number of feature maps to show on each row and column\n",
    "        plt.title('FeatureMap ' + str(featuremap)) # displays the feature map number\n",
    "        if activation_min != -1 & activation_max != -1:\n",
    "            plt.imshow(activation[0,:,:, featuremap], interpolation=\"nearest\", vmin =activation_min, vmax=activation_max, cmap=\"gray\")\n",
    "        elif activation_max != -1:\n",
    "            plt.imshow(activation[0,:,:, featuremap], interpolation=\"nearest\", vmax=activation_max, cmap=\"gray\")\n",
    "        elif activation_min !=-1:\n",
    "            plt.imshow(activation[0,:,:, featuremap], interpolation=\"nearest\", vmin=activation_min, cmap=\"gray\")\n",
    "        else:\n",
    "            plt.imshow(activation[0,:,:, featuremap], interpolation=\"nearest\", cmap=\"gray\")"
   ]
  }
 ],
 "metadata": {
  "anaconda-cloud": {},
  "kernelspec": {
   "display_name": "Python 3",
   "language": "python",
   "name": "python3"
  },
  "language_info": {
   "codemirror_mode": {
    "name": "ipython",
    "version": 3
   },
   "file_extension": ".py",
   "mimetype": "text/x-python",
   "name": "python",
   "nbconvert_exporter": "python",
   "pygments_lexer": "ipython3",
   "version": "3.5.2"
  },
  "widgets": {
   "state": {},
   "version": "1.1.2"
  }
 },
 "nbformat": 4,
 "nbformat_minor": 1
}
