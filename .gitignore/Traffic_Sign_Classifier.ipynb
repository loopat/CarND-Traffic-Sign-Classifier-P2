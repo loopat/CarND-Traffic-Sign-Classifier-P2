{
 "cells": [
  {
   "cell_type": "markdown",
   "metadata": {},
   "source": [
    "# Self-Driving Car Engineer Nanodegree\n",
    "\n",
    "## Deep Learning\n",
    "\n",
    "## Project: Build a Traffic Sign Recognition Classifier\n",
    "\n",
    "In this notebook, a template is provided for you to implement your functionality in stages, which is required to successfully complete this project. If additional code is required that cannot be included in the notebook, be sure that the Python code is successfully imported and included in your submission if necessary. \n",
    "\n",
    "> **Note**: Once you have completed all of the code implementations, you need to finalize your work by exporting the iPython Notebook as an HTML document. Before exporting the notebook to html, all of the code cells need to have been run so that reviewers can see the final implementation and output. You can then export the notebook by using the menu above and navigating to  \\n\",\n",
    "    \"**File -> Download as -> HTML (.html)**. Include the finished document along with this notebook as your submission. \n",
    "\n",
    "In addition to implementing code, there is a writeup to complete. The writeup should be completed in a separate file, which can be either a markdown file or a pdf document. There is a [write up template](https://github.com/udacity/CarND-Traffic-Sign-Classifier-Project/blob/master/writeup_template.md) that can be used to guide the writing process. Completing the code template and writeup template will cover all of the [rubric points](https://review.udacity.com/#!/rubrics/481/view) for this project.\n",
    "\n",
    "The [rubric](https://review.udacity.com/#!/rubrics/481/view) contains \"Stand Out Suggestions\" for enhancing the project beyond the minimum requirements. The stand out suggestions are optional. If you decide to pursue the \"stand out suggestions\", you can include the code in this Ipython notebook and also discuss the results in the writeup file.\n",
    "\n",
    "\n",
    ">**Note:** Code and Markdown cells can be executed using the **Shift + Enter** keyboard shortcut. In addition, Markdown cells can be edited by typically double-clicking the cell to enter edit mode."
   ]
  },
  {
   "cell_type": "markdown",
   "metadata": {},
   "source": [
    "---\n",
    "## Step 0: Load The Data"
   ]
  },
  {
   "cell_type": "code",
   "execution_count": 1,
   "metadata": {
    "collapsed": true
   },
   "outputs": [],
   "source": [
    "# Load pickled data\n",
    "import pickle\n",
    "\n",
    "# TODO: Fill this in based on where you saved the training and testing data\n",
    "\n",
    "training_file = './traffic-signs-data/train.p'\n",
    "validation_file= './traffic-signs-data/valid.p'\n",
    "testing_file = './traffic-signs-data/test.p'\n",
    "\n",
    "with open(training_file, mode='rb') as f:\n",
    "    train = pickle.load(f)\n",
    "with open(validation_file, mode='rb') as f:\n",
    "    valid = pickle.load(f)\n",
    "with open(testing_file, mode='rb') as f:\n",
    "    test = pickle.load(f)\n",
    "    \n",
    "X_train, y_train = train['features'], train['labels']\n",
    "X_valid, y_valid = valid['features'], valid['labels']\n",
    "X_test, y_test = test['features'], test['labels']"
   ]
  },
  {
   "cell_type": "markdown",
   "metadata": {},
   "source": [
    "---\n",
    "\n",
    "## Step 1: Dataset Summary & Exploration\n",
    "\n",
    "The pickled data is a dictionary with 4 key/value pairs:\n",
    "\n",
    "- `'features'` is a 4D array containing raw pixel data of the traffic sign images, (num examples, width, height, channels).\n",
    "- `'labels'` is a 1D array containing the label/class id of the traffic sign. The file `signnames.csv` contains id -> name mappings for each id.\n",
    "- `'sizes'` is a list containing tuples, (width, height) representing the original width and height the image.\n",
    "- `'coords'` is a list containing tuples, (x1, y1, x2, y2) representing coordinates of a bounding box around the sign in the image. **THESE COORDINATES ASSUME THE ORIGINAL IMAGE. THE PICKLED DATA CONTAINS RESIZED VERSIONS (32 by 32) OF THESE IMAGES**\n",
    "\n",
    "Complete the basic data summary below. Use python, numpy and/or pandas methods to calculate the data summary rather than hard coding the results. For example, the [pandas shape method](http://pandas.pydata.org/pandas-docs/stable/generated/pandas.DataFrame.shape.html) might be useful for calculating some of the summary results. "
   ]
  },
  {
   "cell_type": "markdown",
   "metadata": {},
   "source": [
    "### Provide a Basic Summary of the Data Set Using Python, Numpy and/or Pandas"
   ]
  },
  {
   "cell_type": "code",
   "execution_count": 2,
   "metadata": {},
   "outputs": [
    {
     "name": "stdout",
     "output_type": "stream",
     "text": [
      "4410\n",
      "Number of training examples = 34799\n",
      "Number of testing examples = 12630\n",
      "Image data shape = (32, 32, 3)\n",
      "Number of classes = 43\n"
     ]
    }
   ],
   "source": [
    "### Replace each question mark with the appropriate value. \n",
    "### Use python, pandas or numpy methods rather than hard coding the results\n",
    "import pandas as pd\n",
    "\n",
    "# TODO: Number of training examples\n",
    "X_train_shape = X_train.shape\n",
    "n_train= X_train_shape[0]\n",
    "\n",
    "# TODO: Number of validation examples\n",
    "X_valid_shape = X_valid.shape\n",
    "n_validation = X_valid_shape[0]\n",
    "print(n_validation)\n",
    "\n",
    "# TODO: Number of testing examples.\n",
    "X_test_shape = X_test.shape\n",
    "n_test = X_test_shape[0]\n",
    "\n",
    "# TODO: What's the shape of an traffic sign image?\n",
    "image_shape = (X_train.shape[1],X_train.shape[2],X_train.shape[3])\n",
    "\n",
    "# TODO: How many unique classes/labels there are in the dataset.\n",
    "tf = pd.DataFrame(y_train)\n",
    "n_classes = len(pd.value_counts(y_train))\n",
    "\n",
    "print(\"Number of training examples =\", n_train)\n",
    "print(\"Number of testing examples =\", n_test)\n",
    "print(\"Image data shape =\", image_shape)\n",
    "print(\"Number of classes =\", n_classes)"
   ]
  },
  {
   "cell_type": "markdown",
   "metadata": {},
   "source": [
    "### Include an exploratory visualization of the dataset"
   ]
  },
  {
   "cell_type": "markdown",
   "metadata": {},
   "source": [
    "Visualize the German Traffic Signs Dataset using the pickled file(s). This is open ended, suggestions include: plotting traffic sign images, plotting the count of each sign, etc. \n",
    "\n",
    "The [Matplotlib](http://matplotlib.org/) [examples](http://matplotlib.org/examples/index.html) and [gallery](http://matplotlib.org/gallery.html) pages are a great resource for doing visualizations in Python.\n",
    "\n",
    "**NOTE:** It's recommended you start with something simple first. If you wish to do more, come back to it after you've completed the rest of the sections. It can be interesting to look at the distribution of classes in the training, validation and test set. Is the distribution the same? Are there more examples of some classes than others?"
   ]
  },
  {
   "cell_type": "code",
   "execution_count": 3,
   "metadata": {},
   "outputs": [
    {
     "name": "stdout",
     "output_type": "stream",
     "text": [
      "2.0.2\n",
      "(32, 32, 3)\n",
      "(32, 32, 3)\n",
      "(32, 32)\n",
      "(32, 32)\n"
     ]
    },
    {
     "data": {
      "text/plain": [
       "<matplotlib.image.AxesImage at 0x126da55f8>"
      ]
     },
     "execution_count": 3,
     "metadata": {},
     "output_type": "execute_result"
    },
    {
     "data": {
      "image/png": "[encoded data removed]",
      "text/plain": [
       "<matplotlib.figure.Figure at 0x1202a4390>"
      ]
     },
     "metadata": {},
     "output_type": "display_data"
    },
    {
     "data": {
      "image/png": "[encoded data removed]",
      "text/plain": [
       "<matplotlib.figure.Figure at 0x124c93748>"
      ]
     },
     "metadata": {},
     "output_type": "display_data"
    },
    {
     "data": {
      "image/png": "[encoded data removed]",
      "text/plain": [
       "<matplotlib.figure.Figure at 0x126d0d048>"
      ]
     },
     "metadata": {},
     "output_type": "display_data"
    }
   ],
   "source": [
    "### Data exploration visualization code goes here.\n",
    "### Feel free to use as many code cells as needed.\n",
    "import matplotlib\n",
    "import matplotlib.pyplot as plt\n",
    "# Visualizations will be shown in the notebook.\n",
    "%matplotlib inline\n",
    "\n",
    "print(matplotlib.__version__)\n",
    "\n",
    "import cv2\n",
    "import numpy as np\n",
    "\n",
    "index = 100\n",
    "\n",
    "image = X_train[index]\n",
    "print((X_train[index]).shape)\n",
    "plt.figure(figsize=[2,2])\n",
    "plt.imshow(image)\n",
    "\n",
    "# trans to gray image\n",
    "X_train_gray = np.copy(image)\n",
    "print((X_train_gray).shape)\n",
    "X_train_gray = cv2.cvtColor(X_train_gray, cv2.COLOR_RGB2GRAY)\n",
    "print((X_train_gray).shape)\n",
    "plt.figure(figsize=[2,2])\n",
    "print((X_train_gray).shape)\n",
    "plt.imshow(X_train_gray,cmap='gray')\n",
    "#print(X_train_gray.shape)\n",
    "\n",
    "image_normal = np.copy(image)\n",
    "image_normal = (X_train[index]-128)/128\n",
    "plt.figure(figsize=[2,2])\n",
    "plt.imshow(image_normal,cmap='gray')\n",
    "#print(X_train[index])"
   ]
  },
  {
   "cell_type": "code",
   "execution_count": 4,
   "metadata": {},
   "outputs": [
    {
     "data": {
      "text/plain": [
       "(array([ 7200.,  4560.,  6180.,  3510.,  2550.,  2640.,  1470.,  1889.,\n",
       "         1950.,  2850.]),\n",
       " array([  0. ,   4.2,   8.4,  12.6,  16.8,  21. ,  25.2,  29.4,  33.6,\n",
       "         37.8,  42. ]),\n",
       " <a list of 10 Patch objects>)"
      ]
     },
     "execution_count": 4,
     "metadata": {},
     "output_type": "execute_result"
    },
    {
     "data": {
      "image/png": "[encoded data removed]",
      "text/plain": [
       "<matplotlib.figure.Figure at 0x1043c4320>"
      ]
     },
     "metadata": {},
     "output_type": "display_data"
    }
   ],
   "source": [
    "matplotlib.pyplot.hist(y_train)"
   ]
  },
  {
   "cell_type": "markdown",
   "metadata": {},
   "source": [
    "----\n",
    "\n",
    "## Step 2: Design and Test a Model Architecture\n",
    "\n",
    "Design and implement a deep learning model that learns to recognize traffic signs. Train and test your model on the [German Traffic Sign Dataset](http://benchmark.ini.rub.de/?section=gtsrb&subsection=dataset).\n",
    "\n",
    "The LeNet-5 implementation shown in the [classroom](https://classroom.udacity.com/nanodegrees/nd013/parts/fbf77062-5703-404e-b60c-95b78b2f3f9e/modules/6df7ae49-c61c-4bb2-a23e-6527e69209ec/lessons/601ae704-1035-4287-8b11-e2c2716217ad/concepts/d4aca031-508f-4e0b-b493-e7b706120f81) at the end of the CNN lesson is a solid starting point. You'll have to change the number of classes and possibly the preprocessing, but aside from that it's plug and play! \n",
    "\n",
    "With the LeNet-5 solution from the lecture, you should expect a validation set accuracy of about 0.89. To meet specifications, the validation set accuracy will need to be at least 0.93. It is possible to get an even higher accuracy, but 0.93 is the minimum for a successful project submission. \n",
    "\n",
    "There are various aspects to consider when thinking about this problem:\n",
    "\n",
    "- Neural network architecture (is the network over or underfitting?)\n",
    "- Play around preprocessing techniques (normalization, rgb to grayscale, etc)\n",
    "- Number of examples per label (some have more than others).\n",
    "- Generate fake data.\n",
    "\n",
    "Here is an example of a [published baseline model on this problem](http://yann.lecun.com/exdb/publis/pdf/sermanet-ijcnn-11.pdf). It's not required to be familiar with the approach used in the paper but, it's good practice to try to read papers like these."
   ]
  },
  {
   "cell_type": "markdown",
   "metadata": {},
   "source": [
    "### Pre-process the Data Set (normalization, grayscale, etc.)"
   ]
  },
  {
   "cell_type": "markdown",
   "metadata": {},
   "source": [
    "Minimally, the image data should be normalized so that the data has mean zero and equal variance. For image data, `(pixel - 128)/ 128` is a quick way to approximately normalize the data and can be used in this project. \n",
    "\n",
    "Other pre-processing steps are optional. You can try different techniques to see if it improves performance. \n",
    "\n",
    "Use the code cell (or multiple code cells, if necessary) to implement the first step of your project."
   ]
  },
  {
   "cell_type": "code",
   "execution_count": 5,
   "metadata": {},
   "outputs": [
    {
     "name": "stdout",
     "output_type": "stream",
     "text": [
      "==>X_train[index] type     is <class 'numpy.ndarray'>\n",
      "==>X_train[index] shape    is  (32, 32, 3)\n",
      "(34799, 32, 32, 3)\n",
      "-------------------------------------------\n",
      "(34799, 32, 32)\n",
      "==>X_train_ndarray_3D[index] type     is <class 'numpy.ndarray'>\n",
      "==>X_train_ndarray_3D[index] shape    is  (32, 32)\n"
     ]
    },
    {
     "data": {
      "text/plain": [
       "<matplotlib.image.AxesImage at 0x103d1c630>"
      ]
     },
     "execution_count": 5,
     "metadata": {},
     "output_type": "execute_result"
    },
    {
     "data": {
      "image/png": "[encoded data removed]",
      "text/plain": [
       "<matplotlib.figure.Figure at 0x126e87e10>"
      ]
     },
     "metadata": {},
     "output_type": "display_data"
    },
    {
     "data": {
      "image/png": "[encoded data removed]",
      "text/plain": [
       "<matplotlib.figure.Figure at 0x12d4eb7b8>"
      ]
     },
     "metadata": {},
     "output_type": "display_data"
    }
   ],
   "source": [
    "### Preprocess the data here. It is required to normalize the data. Other preprocessing steps could include \n",
    "### converting to grayscale, etc.\n",
    "### Feel free to use as many code cells as needed.\n",
    "import tensorflow as tf\n",
    "\n",
    "print(\"==>X_train[index] type     is\", type(X_train[index]))\n",
    "print(\"==>X_train[index] shape    is \",(X_train[index]).shape)\n",
    "plt.figure(figsize=[2,2])\n",
    "plt.imshow(X_train[index])\n",
    "#grayImage = cv2.cvtColor(image_array, cv2.COLOR_RGB2GRAY)\n",
    "#print(grayImage.shape);\n",
    "print(X_train.shape)\n",
    "print(\"-------------------------------------------\")\n",
    "\n",
    "# The input shape is [34799,32,32,3], type is numpy.ndarray\n",
    "# The output shape is [34799,32,32,1], type is tensor\n",
    "X_train_tensor_gray_4D = tf.image.rgb_to_grayscale(X_train)\n",
    "X_valid_tensor_gray_4D = tf.image.rgb_to_grayscale(X_valid)\n",
    "X_test_tensor_gray_4D = tf.image.rgb_to_grayscale(X_test)\n",
    "\n",
    "# reshape to [34799,32,32],type is tensor\n",
    "X_train_tensor_gray_3D = tf.reshape(X_train_tensor_gray_4D,[n_train,image_shape[0],image_shape[1]])\n",
    "X_valid_tensor_gray_3D = tf.reshape(X_valid_tensor_gray_4D,[n_validation, image_shape[0], image_shape[1]])\n",
    "X_test_tensor_gray_3D  = tf.reshape(X_test_tensor_gray_4D, [n_test, image_shape[0], image_shape[1]])\n",
    "\n",
    "# tensor to ndarray\n",
    "with tf.Session() as sess:\n",
    "    sess.run(tf.global_variables_initializer())\n",
    "    # run session to get numpy.ndarray from tensor\n",
    "    # X_train_ndarray_4D = sess.run(X_train_tensor_gray_4D)\n",
    "    # X_valid_ndarray_4D = sess.run(X_valid_tensor_gray_4D)\n",
    "    # X_test_ndarray_4D = sess.run(X_test_tensor_gray_4D)\n",
    "    X_train_ndarray_3D = sess.run(X_train_tensor_gray_3D)\n",
    "    X_valid_ndarray_3D = sess.run(X_valid_tensor_gray_3D)\n",
    "    X_test_ndarray_3D  = sess.run(X_test_tensor_gray_3D)\n",
    "    print(X_train_ndarray_3D.shape)\n",
    "    \n",
    "sess.close()\n",
    "\n",
    "print(\"==>X_train_ndarray_3D[index] type     is\", type(X_train_ndarray_3D[index]))\n",
    "print(\"==>X_train_ndarray_3D[index] shape    is \",(X_train_ndarray_3D[index]).shape)\n",
    "\n",
    "plt.figure(figsize=[2,2])\n",
    "plt.imshow(X_train_ndarray_3D[index], cmap= 'gray')"
   ]
  },
  {
   "cell_type": "code",
   "execution_count": 6,
   "metadata": {},
   "outputs": [],
   "source": [
    "import cv2\n",
    "\n",
    "###CLAHE###, OPENCV\n",
    "clahe = cv2.createCLAHE(clipLimit=2.0, tileGridSize=(8,8))\n",
    "\n",
    "# train \n",
    "for i in range(n_train):\n",
    "    X_train_ndarray_3D[i] = clahe.apply(X_train_ndarray_3D[i])\n",
    "# valid\n",
    "for i in range(n_validation):\n",
    "    X_valid_ndarray_3D[i] = clahe.apply(X_valid_ndarray_3D[i])\n",
    "# test\n",
    "for i in range(n_test):\n",
    "    X_test_ndarray_3D[i] = clahe.apply(X_test_ndarray_3D[i])\n",
    "\n",
    "#reshape to [n_, 32,32,1]\n",
    "X_train_ndarray_4D = X_train_ndarray_3D.reshape(-1,image_shape[0],image_shape[1],1)\n",
    "X_valid_ndarray_4D = X_valid_ndarray_3D.reshape(-1,image_shape[0],image_shape[1],1)\n",
    "X_test_ndarray_4D  = X_test_ndarray_3D.reshape(-1, image_shape[0],image_shape[1],1)\n",
    "\n",
    "# normalization\n",
    "X_train_ndarray_4D = (X_train_ndarray_4D - 128.0)/128.0\n",
    "X_valid_ndarray_4D = (X_valid_ndarray_4D - 128.0)/128.0\n",
    "X_test_ndarray_4D  = (X_test_ndarray_4D - 128.0)/128.0\n",
    "\n",
    "# print(X_train_ndarray_4D.shape)\n",
    "#X_train_normal = (X_train - 128.0)/128.0\n",
    "#X_valid_normal = (X_valid - 128.0)/128.0"
   ]
  },
  {
   "cell_type": "code",
   "execution_count": 7,
   "metadata": {},
   "outputs": [
    {
     "name": "stdout",
     "output_type": "stream",
     "text": [
      "(34799, 32, 32, 1)\n",
      "(4410, 32, 32, 1)\n",
      "(12630, 32, 32, 1)\n"
     ]
    }
   ],
   "source": [
    "print(X_train_ndarray_4D.shape)\n",
    "print(X_valid_ndarray_4D.shape)\n",
    "print(X_test_ndarray_4D.shape)"
   ]
  },
  {
   "cell_type": "markdown",
   "metadata": {},
   "source": [
    "### Model Architecture"
   ]
  },
  {
   "cell_type": "code",
   "execution_count": 8,
   "metadata": {
    "collapsed": true
   },
   "outputs": [],
   "source": [
    "epoches = 40\n",
    "batch_size = 128\n",
    "rate = 0.004\n",
    "keep_prob = 0.8"
   ]
  },
  {
   "cell_type": "code",
   "execution_count": 9,
   "metadata": {
    "collapsed": true
   },
   "outputs": [],
   "source": [
    "model_path = './traffic_sign_classifier'"
   ]
  },
  {
   "cell_type": "code",
   "execution_count": 10,
   "metadata": {
    "collapsed": true
   },
   "outputs": [],
   "source": [
    "### Define your architecture here.\n",
    "### Feel free to use as many code cells as needed.\n",
    "\n",
    "import tensorflow as tf\n",
    "from tensorflow.contrib.layers import flatten \n",
    "\n",
    "def VarLeNet(x):\n",
    "    mu = 0\n",
    "    sigma = 0.03\n",
    "    \n",
    "    # Convolution. Input is [32,32,1], output is [28,28,6]\n",
    "    layer1_w = tf.Variable(tf.truncated_normal(shape=[5,5,1,6], mean = mu, stddev = sigma))\n",
    "    layer1_b = tf.Variable(tf.zeros(6))\n",
    "    layer1_conv = tf.nn.conv2d(x,layer1_w,[1,1,1,1],'VALID') + layer1_b    \n",
    "    layer1_relu = tf.nn.relu(layer1_conv) # Activation\n",
    "    # Pooling. Input is [28,28,6], output is [14,14,6]\n",
    "    layer1_pool = tf.nn.max_pool(layer1_relu,[1,2,2,1],[1,2,2,1],'VALID')\n",
    "    \n",
    "    # Convolution. output is [10,10,16]\n",
    "    layer2_w = tf.Variable(tf.truncated_normal(shape = [5,5,6,16], mean= mu, stddev= sigma))\n",
    "    layer2_b = tf.Variable(tf.zeros(16))\n",
    "    layer2_conv = tf.nn.conv2d(layer1_pool,layer2_w, [1,1,1,1],'VALID') + layer2_b\n",
    "    layer2_relu = tf.nn.relu(layer2_conv)\n",
    "    # Pooling. output is [5,5,16]\n",
    "    layer2_pool = tf.nn.max_pool(layer2_relu,[1,2,2,1],[1,2,2,1],'VALID')  \n",
    "    layer2_flatten = flatten(layer2_pool)\n",
    "    \n",
    "    # Output is 120\n",
    "    layer3_w = tf.Variable(tf.truncated_normal([400,120], mean= mu, stddev= sigma))\n",
    "    layer3_b = tf.Variable(tf.zeros(120))\n",
    "    layer3_fc = tf.add(tf.matmul(layer2_flatten, layer3_w), layer3_b)\n",
    "    layer3_relu = tf.nn.relu(layer3_fc)\n",
    "    \n",
    "    # Fully connected. Output is 84\n",
    "    layer4_w = tf.Variable(tf.truncated_normal([120,84], mean= mu, stddev= sigma))\n",
    "    layer4_b = tf.Variable(tf.zeros(84))\n",
    "    layer4_fc = tf.add(tf.matmul(layer3_relu,layer4_w), layer4_b)\n",
    "    layer4_relu = tf.nn.relu(layer4_fc)\n",
    "    layer4_drop = tf.nn.dropout(layer4_relu, keep_prob)\n",
    "\n",
    "    # Fully Connected. Output is 43\n",
    "    layer5_w = tf.Variable(tf.truncated_normal([84,43], mean= mu, stddev= sigma))\n",
    "    layer5_b = tf.Variable(tf.zeros(43))\n",
    "    logits = tf.add(tf.matmul(layer4_drop,layer5_w), layer5_b,name='logits')\n",
    "    \n",
    "    return logits\n",
    "    "
   ]
  },
  {
   "cell_type": "code",
   "execution_count": 11,
   "metadata": {
    "collapsed": true
   },
   "outputs": [],
   "source": [
    "tf.reset_default_graph()\n",
    "\n",
    "x = tf.placeholder(tf.float32, (None, image_shape[0], image_shape[1],1), name = 'x')\n",
    "y = tf.placeholder(tf.int32, (None), name='y')\n",
    "one_hot_y = tf.one_hot(y,n_classes)"
   ]
  },
  {
   "cell_type": "code",
   "execution_count": 12,
   "metadata": {
    "collapsed": true
   },
   "outputs": [],
   "source": [
    "logits = VarLeNet(x)\n",
    "# loss and optimizer\n",
    "cross_entropy = tf.nn.softmax_cross_entropy_with_logits(logits= logits, labels= one_hot_y)\n",
    "loss = tf.reduce_mean(cross_entropy)\n",
    "optimizer = tf.train.AdamOptimizer().minimize(loss)\n",
    "# Accuracy\n",
    "correct_prediction = tf.equal(tf.argmax(logits,1), tf.argmax(one_hot_y,1))\n",
    "accuracy_operation = tf.reduce_mean(tf.cast(correct_prediction, tf.float32), name= 'accuracy')"
   ]
  },
  {
   "cell_type": "code",
   "execution_count": 13,
   "metadata": {
    "collapsed": true
   },
   "outputs": [],
   "source": [
    "saver = tf.train.Saver()"
   ]
  },
  {
   "cell_type": "code",
   "execution_count": 14,
   "metadata": {
    "collapsed": true
   },
   "outputs": [],
   "source": [
    "def evaluate(X_data, y_data):\n",
    "    num_examples = len(X_data)\n",
    "    total_accuracy = 0\n",
    "    sess = tf.get_default_session()\n",
    "    for offset in range(0, num_examples, batch_size):\n",
    "        batch_x, batch_y = X_data[offset:offset+batch_size], y_data[offset:offset+ batch_size]\n",
    "        accuracy = sess.run(accuracy_operation, feed_dict={x: batch_x, y: batch_y})\n",
    "        total_accuracy += (accuracy * len(batch_x))\n",
    "    return total_accuracy / num_examples"
   ]
  },
  {
   "cell_type": "markdown",
   "metadata": {},
   "source": [
    "### Train, Validate and Test the Model"
   ]
  },
  {
   "cell_type": "markdown",
   "metadata": {},
   "source": [
    "A validation set can be used to assess how well the model is performing. A low accuracy on the training and validation\n",
    "sets imply underfitting. A high accuracy on the training set but low accuracy on the validation set implies overfitting."
   ]
  },
  {
   "cell_type": "code",
   "execution_count": 15,
   "metadata": {
    "scrolled": true
   },
   "outputs": [
    {
     "name": "stdout",
     "output_type": "stream",
     "text": [
      "Start Training ...\n",
      "EPOCH 1 ...\n",
      "Validation Accuracy = 0.384\n",
      "EPOCH 2 ...\n",
      "Validation Accuracy = 0.682\n",
      "EPOCH 3 ...\n",
      "Validation Accuracy = 0.773\n",
      "EPOCH 4 ...\n",
      "Validation Accuracy = 0.822\n",
      "EPOCH 5 ...\n",
      "Validation Accuracy = 0.860\n",
      "EPOCH 6 ...\n",
      "Validation Accuracy = 0.869\n",
      "EPOCH 7 ...\n",
      "Validation Accuracy = 0.884\n",
      "EPOCH 8 ...\n",
      "Validation Accuracy = 0.896\n",
      "EPOCH 9 ...\n",
      "Validation Accuracy = 0.901\n",
      "EPOCH 10 ...\n",
      "Validation Accuracy = 0.913\n",
      "EPOCH 11 ...\n",
      "Validation Accuracy = 0.902\n",
      "EPOCH 12 ...\n",
      "Validation Accuracy = 0.918\n",
      "EPOCH 13 ...\n",
      "Validation Accuracy = 0.920\n",
      "EPOCH 14 ...\n",
      "Validation Accuracy = 0.917\n",
      "EPOCH 15 ...\n",
      "Validation Accuracy = 0.915\n",
      "EPOCH 16 ...\n",
      "Validation Accuracy = 0.923\n",
      "EPOCH 17 ...\n",
      "Validation Accuracy = 0.927\n",
      "EPOCH 18 ...\n",
      "Validation Accuracy = 0.924\n",
      "EPOCH 19 ...\n",
      "Validation Accuracy = 0.928\n",
      "EPOCH 20 ...\n",
      "Validation Accuracy = 0.937\n",
      "EPOCH 21 ...\n",
      "Validation Accuracy = 0.932\n",
      "EPOCH 22 ...\n",
      "Validation Accuracy = 0.929\n",
      "EPOCH 23 ...\n",
      "Validation Accuracy = 0.932\n",
      "EPOCH 24 ...\n",
      "Validation Accuracy = 0.934\n",
      "EPOCH 25 ...\n",
      "Validation Accuracy = 0.934\n",
      "EPOCH 26 ...\n",
      "Validation Accuracy = 0.937\n",
      "EPOCH 27 ...\n",
      "Validation Accuracy = 0.936\n",
      "EPOCH 28 ...\n",
      "Validation Accuracy = 0.937\n",
      "EPOCH 29 ...\n",
      "Validation Accuracy = 0.943\n",
      "EPOCH 30 ...\n",
      "Validation Accuracy = 0.940\n",
      "EPOCH 31 ...\n",
      "Validation Accuracy = 0.939\n",
      "EPOCH 32 ...\n",
      "Validation Accuracy = 0.935\n",
      "EPOCH 33 ...\n",
      "Validation Accuracy = 0.930\n",
      "EPOCH 34 ...\n",
      "Validation Accuracy = 0.933\n",
      "EPOCH 35 ...\n",
      "Validation Accuracy = 0.935\n",
      "EPOCH 36 ...\n",
      "Validation Accuracy = 0.935\n",
      "EPOCH 37 ...\n",
      "Validation Accuracy = 0.942\n",
      "EPOCH 38 ...\n",
      "Validation Accuracy = 0.942\n",
      "EPOCH 39 ...\n",
      "Validation Accuracy = 0.939\n",
      "EPOCH 40 ...\n",
      "Validation Accuracy = 0.947\n",
      "Model saved\n"
     ]
    }
   ],
   "source": [
    "### Train your model here.\n",
    "### Calculate and report the accuracy on the training and validation set.\n",
    "### Once a final model architecture is selected, \n",
    "### the accuracy on the test set should be calculated and reported as well.\n",
    "### Feel free to use as many code cells as needed.\n",
    "from sklearn.utils import shuffle\n",
    "\n",
    "# print(X_train_ndarray_4D.shape)\n",
    "with tf.Session() as sess:\n",
    "    sess.run(tf.global_variables_initializer())\n",
    "    print(\"Start Training ...\")\n",
    "    # Training cycle\n",
    "    for i in range(epoches):\n",
    "        X_train_ndarray_4D, y_train = shuffle(X_train_ndarray_4D, y_train)\n",
    "        # X_train_ndarray_4D, y_train = shuffle(X_train_normal, y_train)\n",
    "        for j in range(0, n_train, batch_size):\n",
    "            start = j\n",
    "            end = start + batch_size\n",
    "            batch_features, batch_labels = X_train_ndarray_4D[start : end], y_train[start : end]\n",
    "            if(j==1):\n",
    "                print(batch_labels)\n",
    "            sess.run(optimizer, feed_dict= {x: batch_features, y: batch_labels})\n",
    "            \n",
    "        validation_accuracy = evaluate(X_valid_ndarray_4D,y_valid)\n",
    "        print(\"EPOCH {} ...\".format(i + 1))\n",
    "        print(\"Validation Accuracy = {:.3f}\".format(validation_accuracy))\n",
    "        \n",
    "    saver.save(sess,model_path)\n",
    "    print(\"Model saved\")"
   ]
  },
  {
   "cell_type": "code",
   "execution_count": 16,
   "metadata": {},
   "outputs": [
    {
     "name": "stdout",
     "output_type": "stream",
     "text": [
      "Test Accuracy = 0.925\n"
     ]
    }
   ],
   "source": [
    "with tf.Session() as sess:\n",
    "    saver.restore(sess, tf.train.latest_checkpoint('.'))\n",
    "\n",
    "    test_accuracy = evaluate(X_test_ndarray_4D, y_test)\n",
    "    print(\"Test Accuracy = {:.3f}\".format(test_accuracy))"
   ]
  },
  {
   "cell_type": "markdown",
   "metadata": {},
   "source": [
    "---\n",
    "\n",
    "## Step 3: Test a Model on New Images\n",
    "\n",
    "To give yourself more insight into how your model is working, download at least five pictures of German traffic signs from the web and use your model to predict the traffic sign type.\n",
    "\n",
    "You may find `signnames.csv` useful as it contains mappings from the class id (integer) to the actual sign name."
   ]
  },
  {
   "cell_type": "markdown",
   "metadata": {},
   "source": [
    "### Load and Output the Images"
   ]
  },
  {
   "cell_type": "code",
   "execution_count": 27,
   "metadata": {},
   "outputs": [],
   "source": [
    "### Load the images and plot them here.\n",
    "### Feel free to use as many code cells as needed.\n",
    "n_samples = 5\n",
    "n_channel = 1\n"
   ]
  },
  {
   "cell_type": "code",
   "execution_count": 28,
   "metadata": {},
   "outputs": [
    {
     "data": {
      "text/plain": [
       "array([[207, 191, 175, ..., 116, 175, 239],\n",
       "       [143, 128, 143, ..., 104, 159, 207],\n",
       "       [223, 223, 239, ..., 152, 207, 255],\n",
       "       ..., \n",
       "       [195, 195, 179, ..., 124, 199, 235],\n",
       "       [223, 207, 191, ..., 151, 191, 239],\n",
       "       [207, 207, 191, ..., 151, 207, 255]], dtype=uint8)"
      ]
     },
     "execution_count": 28,
     "metadata": {},
     "output_type": "execute_result"
    },
    {
     "data": {
      "image/png": "[encoded data removed]",
      "text/plain": [
       "<matplotlib.figure.Figure at 0x12f0127f0>"
      ]
     },
     "metadata": {},
     "output_type": "display_data"
    },
    {
     "data": {
      "image/png": "[encoded data removed]",
      "text/plain": [
       "<matplotlib.figure.Figure at 0x12d92cd68>"
      ]
     },
     "metadata": {},
     "output_type": "display_data"
    }
   ],
   "source": [
    "import cv2\n",
    "\n",
    "image_1 = cv2.imread('./test_samples_from_web/S1_caution.png')\n",
    "image_1 = image_1[...,::-1]# change the channel due to the different between cv2 and plt\n",
    "plt.figure(figsize=[2,2]) \n",
    "plt.imshow(image_1)\n",
    "\n",
    "image_cv2_1 = cv2.cvtColor(image_1, cv2.COLOR_BGRA2GRAY)\n",
    "img_gray_1 = np.array(image_cv2_1)\n",
    "\n",
    "samples_test_ndarray = [img_gray_1]* n_samples\n",
    "\n",
    "samples_test_ndarray[0] = img_gray_1.copy()\n",
    "plt.figure(figsize=[2,2]) \n",
    "plt.imshow(samples_test_ndarray[0], cmap='gray')\n",
    "\n",
    "clahe = cv2.createCLAHE(clipLimit=2.0, tileGridSize=(8,8))\n",
    "\n",
    "clahe.apply(samples_test_ndarray[0])\n",
    "#plt.figure(figsize=[2,2]) \n",
    "#plt.imshow(samples_test_ndarray[0], cmap='gray')"
   ]
  },
  {
   "cell_type": "code",
   "execution_count": 29,
   "metadata": {},
   "outputs": [
    {
     "data": {
      "text/plain": [
       "array([[239, 207, 191, ..., 159, 207, 255],\n",
       "       [191, 175, 159, ..., 116, 191, 239],\n",
       "       [223, 191, 143, ..., 128, 175, 223],\n",
       "       ..., \n",
       "       [159, 143, 143, ..., 155, 191, 243],\n",
       "       [223, 207, 207, ..., 159, 191, 239],\n",
       "       [255, 255, 255, ..., 147, 191, 223]], dtype=uint8)"
      ]
     },
     "execution_count": 29,
     "metadata": {},
     "output_type": "execute_result"
    },
    {
     "data": {
      "image/png": "[encoded data removed]",
      "text/plain": [
       "<matplotlib.figure.Figure at 0x13606ea20>"
      ]
     },
     "metadata": {},
     "output_type": "display_data"
    },
    {
     "data": {
      "image/png": "[encoded data removed]",
      "text/plain": [
       "<matplotlib.figure.Figure at 0x1203d5518>"
      ]
     },
     "metadata": {},
     "output_type": "display_data"
    }
   ],
   "source": [
    "image_2 = cv2.imread('./test_samples_from_web/S2_straight.png')\n",
    "\n",
    "image_2 = image_2[...,::-1]# change the channel due to the different between cv2 and plt\n",
    "plt.figure(figsize=[2,2]) \n",
    "plt.imshow(image_2)\n",
    "\n",
    "image_cv2_2 = cv2.cvtColor(image_2, cv2.COLOR_BGRA2GRAY)\n",
    "img_gray_2 = np.array(image_cv2_2)\n",
    "\n",
    "samples_test_ndarray[1] = img_gray_2.copy()\n",
    "plt.figure(figsize=[2,2]) \n",
    "plt.imshow(samples_test_ndarray[1], cmap='gray')\n",
    "\n",
    "clahe.apply(samples_test_ndarray[1])\n"
   ]
  },
  {
   "cell_type": "code",
   "execution_count": 30,
   "metadata": {},
   "outputs": [
    {
     "data": {
      "text/plain": [
       "array([[159, 223, 191, ..., 199, 175, 223],\n",
       "       [175, 191, 207, ..., 211, 175, 207],\n",
       "       [207, 143, 175, ..., 175, 191, 191],\n",
       "       ..., \n",
       "       [147, 120, 147, ..., 114, 163, 163],\n",
       "       [112, 128, 207, ..., 135, 239, 223],\n",
       "       [159, 191, 223, ..., 100, 207, 191]], dtype=uint8)"
      ]
     },
     "execution_count": 30,
     "metadata": {},
     "output_type": "execute_result"
    },
    {
     "data": {
      "image/png": "[encoded data removed]",
      "text/plain": [
       "<matplotlib.figure.Figure at 0x12ef9c7b8>"
      ]
     },
     "metadata": {},
     "output_type": "display_data"
    },
    {
     "data": {
      "image/png": "[encoded data removed]",
      "text/plain": [
       "<matplotlib.figure.Figure at 0x12efee9e8>"
      ]
     },
     "metadata": {},
     "output_type": "display_data"
    }
   ],
   "source": [
    "image_3 = cv2.imread('./test_samples_from_web/S3_straight_right.png')\n",
    "\n",
    "image_3 = image_3[...,::-1]# change the channel due to the different between cv2 and plt\n",
    "plt.figure(figsize=[2,2]) \n",
    "plt.imshow(image_3)\n",
    "\n",
    "image_cv2_3 = cv2.cvtColor(image_3, cv2.COLOR_BGRA2GRAY)\n",
    "img_gray_3 = np.array(image_cv2_3)\n",
    "\n",
    "samples_test_ndarray[2] = img_gray_3.copy()\n",
    "plt.figure(figsize=[2,2]) \n",
    "plt.imshow(samples_test_ndarray[2], cmap='gray')\n",
    "\n",
    "clahe.apply(samples_test_ndarray[2])"
   ]
  },
  {
   "cell_type": "code",
   "execution_count": 31,
   "metadata": {},
   "outputs": [
    {
     "data": {
      "text/plain": [
       "array([[112,  96,  64, ...,  60,  64,  80],\n",
       "       [159, 143, 128, ..., 124, 128, 112],\n",
       "       [207, 207, 191, ..., 171, 191, 175],\n",
       "       ..., \n",
       "       [231,  80, 143, ..., 163, 207, 155],\n",
       "       [239,  64,  96, ..., 207, 239, 191],\n",
       "       [255,  80,  80, ..., 207, 175, 159]], dtype=uint8)"
      ]
     },
     "execution_count": 31,
     "metadata": {},
     "output_type": "execute_result"
    },
    {
     "data": {
      "image/png": "[encoded data removed]",
      "text/plain": [
       "<matplotlib.figure.Figure at 0x12eabc400>"
      ]
     },
     "metadata": {},
     "output_type": "display_data"
    },
    {
     "data": {
      "image/png": "[encoded data removed]",
      "text/plain": [
       "<matplotlib.figure.Figure at 0x12ef99390>"
      ]
     },
     "metadata": {},
     "output_type": "display_data"
    }
   ],
   "source": [
    "image_4 = cv2.imread('./test_samples_from_web/S4_right.png')\n",
    "\n",
    "image_4 = image_4[...,::-1]# change the channel due to the different between cv2 and plt\n",
    "plt.figure(figsize=[2,2]) \n",
    "plt.imshow(image_4)\n",
    "\n",
    "image_cv2_4 = cv2.cvtColor(image_4, cv2.COLOR_BGRA2GRAY)\n",
    "img_gray_4 = np.array(image_cv2_4)\n",
    "\n",
    "samples_test_ndarray[3] = img_gray_4.copy()\n",
    "plt.figure(figsize=[2,2]) \n",
    "plt.imshow(samples_test_ndarray[3], cmap='gray')\n",
    "\n",
    "clahe.apply(samples_test_ndarray[3])"
   ]
  },
  {
   "cell_type": "code",
   "execution_count": 32,
   "metadata": {},
   "outputs": [
    {
     "data": {
      "text/plain": [
       "array([[191, 223, 239, ..., 151, 143, 175],\n",
       "       [207, 223, 255, ..., 151, 175, 223],\n",
       "       [191, 223, 239, ..., 167, 191, 239],\n",
       "       ..., \n",
       "       [231, 243, 195, ..., 238, 243, 243],\n",
       "       [239, 255, 191, ..., 207, 191, 207],\n",
       "       [207, 207, 159, ..., 175, 175, 191]], dtype=uint8)"
      ]
     },
     "execution_count": 32,
     "metadata": {},
     "output_type": "execute_result"
    },
    {
     "data": {
      "image/png": "[encoded data removed]",
      "text/plain": [
       "<matplotlib.figure.Figure at 0x12f012e80>"
      ]
     },
     "metadata": {},
     "output_type": "display_data"
    },
    {
     "data": {
      "image/png": "[encoded data removed]",
      "text/plain": [
       "<matplotlib.figure.Figure at 0x12ef101d0>"
      ]
     },
     "metadata": {},
     "output_type": "display_data"
    }
   ],
   "source": [
    "image_5 = cv2.imread('./test_samples_from_web/S5_60.png')\n",
    "\n",
    "image_5 = image_5[...,::-1]# change the channel due to the different between cv2 and plt\n",
    "plt.figure(figsize=[2,2]) \n",
    "plt.imshow(image_5)\n",
    "\n",
    "image_cv2_5 = cv2.cvtColor(image_5, cv2.COLOR_BGRA2GRAY)\n",
    "img_gray_5 = np.array(image_cv2_5)\n",
    "\n",
    "samples_test_ndarray[4] = img_gray_5.copy()\n",
    "plt.figure(figsize=[2,2]) \n",
    "plt.imshow(samples_test_ndarray[4], cmap='gray')\n",
    "\n",
    "clahe.apply(samples_test_ndarray[4])\n"
   ]
  },
  {
   "cell_type": "markdown",
   "metadata": {},
   "source": [
    "### Predict the Sign Type for Each Image"
   ]
  },
  {
   "cell_type": "code",
   "execution_count": 33,
   "metadata": {},
   "outputs": [],
   "source": [
    "### Run the predictions here and use the model to output the prediction for each image.\n",
    "### Make sure to pre-process the images with the same pre-processing pipeline used earlier.\n",
    "### Feel free to use as many code cells as needed."
   ]
  },
  {
   "cell_type": "code",
   "execution_count": 34,
   "metadata": {},
   "outputs": [
    {
     "name": "stdout",
     "output_type": "stream",
     "text": [
      "(5, 32, 32, 1)\n"
     ]
    }
   ],
   "source": [
    "samples_test_ndarray = np.copy(samples_test_ndarray)\n",
    "samples_test_ndarray = samples_test_ndarray.reshape(-1, image_shape[0], image_shape[1], 1)\n",
    "print(samples_test_ndarray.shape)\n",
    "\n",
    "samples_test_ndarray_norm = (samples_test_ndarray - 128.0)/128.0\n"
   ]
  },
  {
   "cell_type": "code",
   "execution_count": 35,
   "metadata": {
    "collapsed": true
   },
   "outputs": [],
   "source": [
    "# Load Model\n",
    "with tf.Session() as sess:\n",
    "    #loader = tf.train.import_meta_graph(model_path + '.meta')\n",
    "    #loader.restore(sess, model_path)\n",
    "    saver.restore(sess, tf.train.latest_checkpoint('.'))\n",
    "    # Get tensor from loaded model\n",
    "    #loaded_x = loaded_graph.get_tensor_by_name('x:0')\n",
    "    #loaded_y = loaded_graph.get_tensor_by_name('y:0')\n",
    "    #loaded_logits = loaded_graph.get_tensor_by_name('logits:0')\n",
    "    #loaded_accuray = loaded_graph.get_tensor_by_name('accuracy:0')\n",
    "    # sess.run(tf.global_variables_initializer())\n",
    "    \n",
    "    samples_test_logits = sess.run('logits:0', feed_dict={'x:0': samples_test_ndarray_norm})\n"
   ]
  },
  {
   "cell_type": "code",
   "execution_count": 36,
   "metadata": {},
   "outputs": [
    {
     "name": "stdout",
     "output_type": "stream",
     "text": [
      "The sample 1 \n",
      "Real    Label is General caution\n",
      "The logit is 24.673 \n",
      "Tensor(\"Reshape_14:0\", shape=(43,), dtype=float32)\n",
      "Predict Label is General caution\n",
      "--------------------------------------------\n",
      "The sample 2 \n",
      "Real    Label is Ahead only\n",
      "The logit is 2.368 \n",
      "Tensor(\"Reshape_16:0\", shape=(43,), dtype=float32)\n",
      "Predict Label is Ahead only\n",
      "--------------------------------------------\n",
      "The sample 3 \n",
      "Real    Label is Go straight or right\n",
      "The logit is 8.474 \n",
      "Tensor(\"Reshape_18:0\", shape=(43,), dtype=float32)\n",
      "Predict Label is Go straight or right\n",
      "--------------------------------------------\n",
      "The sample 4 \n",
      "Real    Label is Turn right ahead\n",
      "The logit is 3.046 \n",
      "Tensor(\"Reshape_20:0\", shape=(43,), dtype=float32)\n",
      "Predict Label is Speed limit (100km/h)\n",
      "--------------------------------------------\n",
      "The sample 5 \n",
      "Real    Label is Speed limit (60km/h)\n",
      "The logit is 6.931 \n",
      "Tensor(\"Reshape_22:0\", shape=(43,), dtype=float32)\n",
      "Predict Label is Speed limit (60km/h)\n",
      "--------------------------------------------\n",
      "The total of right classification is 4\n"
     ]
    }
   ],
   "source": [
    "#print(test_samples_logits)\n",
    "signnames = pd.read_csv('./signnames.csv')\n",
    "\n",
    "samples_test_label=[18,35,36,33,3]\n",
    "\n",
    "i = 0\n",
    "samples_right_num = 0\n",
    "for sample_logit in samples_test_logits:\n",
    "    max_logit = np.max(sample_logit)\n",
    "    max_logit_index = sample_logit.tolist().index(max_logit)\n",
    "    print(\"The sample {} \".format(i+1))\n",
    "    real_label = signnames.iloc[samples_test_label[i]]\n",
    "    print(\"Real    Label is {}\".format(real_label.values[1]))\n",
    "    predict_label = signnames.iloc[max_logit_index]\n",
    "    print(\"The logit is {:3.3f} \".format(max_logit))\n",
    "    print(tf.nn.softmax(sample_logit))\n",
    "    print(\"Predict Label is {}\".format(predict_label.values[1]))\n",
    "    print(\"--------------------------------------------\")\n",
    "    i = i + 1\n",
    "    if(real_label.values[1] == predict_label.values[1]):\n",
    "        samples_right_num = samples_right_num + 1\n",
    "        \n",
    "print(\"The total of right classification is {}\".format(samples_right_num))\n"
   ]
  },
  {
   "cell_type": "markdown",
   "metadata": {},
   "source": [
    "### Analyze Performance"
   ]
  },
  {
   "cell_type": "code",
   "execution_count": 38,
   "metadata": {},
   "outputs": [
    {
     "name": "stdout",
     "output_type": "stream",
     "text": [
      "The model predict accuracy is 80.00％\n"
     ]
    }
   ],
   "source": [
    "### Calculate the accuracy for these 5 new images. \n",
    "### For example, if the model predicted 1 out of 5 signs correctly, it's 20% accurate on these new images.\n",
    "sample_accuracy = samples_right_num/n_samples\n",
    "print(\"The model predict accuracy is {:3.2f}％\".format(sample_accuracy * 100.0))"
   ]
  },
  {
   "cell_type": "markdown",
   "metadata": {},
   "source": [
    "### Output Top 5 Softmax Probabilities For Each Image Found on the Web"
   ]
  },
  {
   "cell_type": "markdown",
   "metadata": {},
   "source": [
    "For each of the new images, print out the model's softmax probabilities to show the **certainty** of the model's predictions (limit the output to the top 5 probabilities for each image). [`tf.nn.top_k`](https://www.tensorflow.org/versions/r0.12/api_docs/python/nn.html#top_k) could prove helpful here. \n",
    "\n",
    "The example below demonstrates how tf.nn.top_k can be used to find the top k predictions for each image.\n",
    "\n",
    "`tf.nn.top_k` will return the values and indices (class ids) of the top k predictions. So if k=3, for each sign, it'll return the 3 largest probabilities (out of a possible 43) and the correspoding class ids.\n",
    "\n",
    "Take this numpy array as an example. The values in the array represent predictions. The array contains softmax probabilities for five candidate images with six possible classes. `tf.nn.top_k` is used to choose the three classes with the highest probability:\n",
    "\n",
    "```\n",
    "# (5, 6) array\n",
    "a = np.array([[ 0.24879643,  0.07032244,  0.12641572,  0.34763842,  0.07893497,\n",
    "         0.12789202],\n",
    "       [ 0.28086119,  0.27569815,  0.08594638,  0.0178669 ,  0.18063401,\n",
    "         0.15899337],\n",
    "       [ 0.26076848,  0.23664738,  0.08020603,  0.07001922,  0.1134371 ,\n",
    "         0.23892179],\n",
    "       [ 0.11943333,  0.29198961,  0.02605103,  0.26234032,  0.1351348 ,\n",
    "         0.16505091],\n",
    "       [ 0.09561176,  0.34396535,  0.0643941 ,  0.16240774,  0.24206137,\n",
    "         0.09155967]])\n",
    "```\n",
    "\n",
    "Running it through `sess.run(tf.nn.top_k(tf.constant(a), k=3))` produces:\n",
    "\n",
    "```\n",
    "TopKV2(values=array([[ 0.34763842,  0.24879643,  0.12789202],\n",
    "       [ 0.28086119,  0.27569815,  0.18063401],\n",
    "       [ 0.26076848,  0.23892179,  0.23664738],\n",
    "       [ 0.29198961,  0.26234032,  0.16505091],\n",
    "       [ 0.34396535,  0.24206137,  0.16240774]]), indices=array([[3, 0, 5],\n",
    "       [0, 1, 4],\n",
    "       [0, 5, 1],\n",
    "       [1, 3, 5],\n",
    "       [1, 4, 3]], dtype=int32))\n",
    "```\n",
    "\n",
    "Looking just at the first row we get `[ 0.34763842,  0.24879643,  0.12789202]`, you can confirm these are the 3 largest probabilities in `a`. You'll also notice `[3, 0, 5]` are the corresponding indices."
   ]
  },
  {
   "cell_type": "code",
   "execution_count": 39,
   "metadata": {},
   "outputs": [
    {
     "name": "stdout",
     "output_type": "stream",
     "text": [
      "TopKV2(values=array([[  1.00000000e+00,   8.77396111e-09,   1.84272475e-09,\n",
      "          7.41445516e-11,   4.65767841e-11],\n",
      "       [  3.57698649e-01,   1.26795709e-01,   6.49692938e-02,\n",
      "          5.98258898e-02,   5.68671376e-02],\n",
      "       [  9.89049435e-01,   2.66816746e-03,   2.41738698e-03,\n",
      "          1.79294066e-03,   1.15589309e-03],\n",
      "       [  7.22467840e-01,   2.13494286e-01,   2.99405605e-02,\n",
      "          1.67218093e-02,   3.26946820e-03],\n",
      "       [  8.88894737e-01,   9.93086845e-02,   5.15737571e-03,\n",
      "          5.08779101e-03,   3.46331566e-04]], dtype=float32), indices=array([[18, 12, 15, 26, 32],\n",
      "       [35, 34, 37, 12, 33],\n",
      "       [36, 20, 42, 10,  5],\n",
      "       [ 7, 40, 25, 42, 20],\n",
      "       [ 3,  5, 29,  2, 23]], dtype=int32))\n"
     ]
    }
   ],
   "source": [
    "### Print out the top five softmax probabilities for the predictions on the German traffic sign images found on the web. \n",
    "### Feel free to use as many code cells as needed.\n",
    "with tf.Session() as sess:\n",
    "    probilities = sess.run(tf.nn.top_k(tf.nn.softmax(samples_test_logits),k=5), feed_dict ={'x:0': samples_test_ndarray})\n",
    "    print(probilities)"
   ]
  },
  {
   "cell_type": "code",
   "execution_count": 40,
   "metadata": {},
   "outputs": [
    {
     "name": "stdout",
     "output_type": "stream",
     "text": [
      "[1.0, 8.7739611e-09, 1.8427248e-09, 7.4144552e-11, 4.6576784e-11]\n",
      "[0.35769865, 0.12679571, 0.064969294, 0.05982589, 0.056867138]\n",
      "[0.98904943, 0.0026681675, 0.002417387, 0.0017929407, 0.0011558931]\n",
      "[0.72246784, 0.21349429, 0.02994056, 0.016721809, 0.0032694682]\n",
      "[0.88889474, 0.099308684, 0.0051573757, 0.005087791, 0.00034633157]\n"
     ]
    },
    {
     "data": {
      "image/png": "[encoded data removed]",
      "text/plain": [
       "<matplotlib.figure.Figure at 0x12f14e748>"
      ]
     },
     "metadata": {},
     "output_type": "display_data"
    }
   ],
   "source": [
    "# Display image predictions\n",
    "\n",
    "fig, axies = plt.subplots(figsize = [10,10], nrows = 5, ncols = 2)\n",
    "fig.tight_layout()\n",
    "fig.subplots_adjust(left = 0.2, right = 2, hspace = 0.3)\n",
    "fig.suptitle('Softmax Predictions', fontsize = 20, y = 1.2)\n",
    "\n",
    "n_predictions = 5\n",
    "ind = np.arange(n_predictions)\n",
    "margin = 0.05\n",
    "width = (1. - 2. * margin)/n_predictions\n",
    "\n",
    "for i in range(n_samples):\n",
    "    axies[i][0].imshow(samples_test_ndarray[i].reshape(32,32), cmap ='gray')\n",
    "    axies[i][0].set_title(signnames.iloc[samples_test_label[i]].values[1])\n",
    "    axies[i][0].set_axis_off()\n",
    "\n",
    "    #print(probilities.indices[i])\n",
    "    lgs = [lg for lg in probilities.values[i]]\n",
    "    print(lgs)\n",
    "    lbs = [signnames.iloc[lb].values[1] for lb in probilities.indices[i]]\n",
    "\n",
    "    axies[i][1].barh(ind + margin, lgs[::], width)\n",
    "    axies[i][1].set_yticks(ind + margin)\n",
    "    axies[i][1].set_yticklabels(lbs)\n",
    "    axies[i][1].set_xticks([0,0.5,1.0])\n"
   ]
  },
  {
   "cell_type": "markdown",
   "metadata": {},
   "source": [
    "### Project Writeup\n",
    "\n",
    "Once you have completed the code implementation, document your results in a project writeup using this [template](https://github.com/udacity/CarND-Traffic-Sign-Classifier-Project/blob/master/writeup_template.md) as a guide. The writeup can be in a markdown or pdf file. "
   ]
  },
  {
   "cell_type": "markdown",
   "metadata": {},
   "source": [
    "> **Note**: Once you have completed all of the code implementations and successfully answered each question above, you may finalize your work by exporting the iPython Notebook as an HTML document. You can do this by using the menu above and navigating to  \\n\",\n",
    "    \"**File -> Download as -> HTML (.html)**. Include the finished document along with this notebook as your submission."
   ]
  },
  {
   "cell_type": "markdown",
   "metadata": {},
   "source": [
    "---\n",
    "\n",
    "## Step 4 (Optional): Visualize the Neural Network's State with Test Images\n",
    "\n",
    " This Section is not required to complete but acts as an additional excersise for understaning the output of a neural network's weights. While neural networks can be a great learning device they are often referred to as a black box. We can understand what the weights of a neural network look like better by plotting their feature maps. After successfully training your neural network you can see what it's feature maps look like by plotting the output of the network's weight layers in response to a test stimuli image. From these plotted feature maps, it's possible to see what characteristics of an image the network finds interesting. For a sign, maybe the inner network feature maps react with high activation to the sign's boundary outline or to the contrast in the sign's painted symbol.\n",
    "\n",
    " Provided for you below is the function code that allows you to get the visualization output of any tensorflow weight layer you want. The inputs to the function should be a stimuli image, one used during training or a new one you provided, and then the tensorflow variable name that represents the layer's state during the training process, for instance if you wanted to see what the [LeNet lab's](https://classroom.udacity.com/nanodegrees/nd013/parts/fbf77062-5703-404e-b60c-95b78b2f3f9e/modules/6df7ae49-c61c-4bb2-a23e-6527e69209ec/lessons/601ae704-1035-4287-8b11-e2c2716217ad/concepts/d4aca031-508f-4e0b-b493-e7b706120f81) feature maps looked like for it's second convolutional layer you could enter conv2 as the tf_activation variable.\n",
    "\n",
    "For an example of what feature map outputs look like, check out NVIDIA's results in their paper [End-to-End Deep Learning for Self-Driving Cars](https://devblogs.nvidia.com/parallelforall/deep-learning-self-driving-cars/) in the section Visualization of internal CNN State. NVIDIA was able to show that their network's inner weights had high activations to road boundary lines by comparing feature maps from an image with a clear path to one without. Try experimenting with a similar test to show that your trained network's weights are looking for interesting features, whether it's looking at differences in feature maps from images with or without a sign, or even what feature maps look like in a trained network vs a completely untrained one on the same sign image.\n",
    "\n",
    "<figure>\n",
    " <img src=\"visualize_cnn.png\" width=\"380\" alt=\"Combined Image\" />\n",
    " <figcaption>\n",
    " <p></p> \n",
    " <p style=\"text-align: center;\"> Your output should look something like this (above)</p> \n",
    " </figcaption>\n",
    "</figure>\n",
    " <p></p> \n"
   ]
  },
  {
   "cell_type": "code",
   "execution_count": 42,
   "metadata": {
    "collapsed": true
   },
   "outputs": [],
   "source": [
    "### Visualize your network's feature maps here.\n",
    "### Feel free to use as many code cells as needed.\n",
    "\n",
    "# image_input: the test image being fed into the network to produce the feature maps\n",
    "# tf_activation: should be a tf variable name used during your training procedure that represents the calculated state of a specific weight layer\n",
    "# activation_min/max: can be used to view the activation contrast in more detail, by default matplot sets min and max to the actual min and max values of the output\n",
    "# plt_num: used to plot out multiple different weight feature map sets on the same block, just extend the plt number for each new feature map entry\n",
    "\n",
    "def outputFeatureMap(image_input, tf_activation, activation_min=-1, activation_max=-1 ,plt_num=1):\n",
    "    # Here make sure to preprocess your image_input in a way your network expects\n",
    "    # with size, normalization, ect if needed\n",
    "    # image_input =\n",
    "    # Note: x should be the same name as your network's tensorflow data placeholder variable\n",
    "    # If you get an error tf_activation is not defined it may be having trouble accessing the variable from inside a function\n",
    "    activation = tf_activation.eval(session=sess,feed_dict={x : image_input})\n",
    "    featuremaps = activation.shape[3]\n",
    "    plt.figure(plt_num, figsize=(15,15))\n",
    "    for featuremap in range(featuremaps):\n",
    "        plt.subplot(6,8, featuremap+1) # sets the number of feature maps to show on each row and column\n",
    "        plt.title('FeatureMap ' + str(featuremap)) # displays the feature map number\n",
    "        if activation_min != -1 & activation_max != -1:\n",
    "            plt.imshow(activation[0,:,:, featuremap], interpolation=\"nearest\", vmin =activation_min, vmax=activation_max, cmap=\"gray\")\n",
    "        elif activation_max != -1:\n",
    "            plt.imshow(activation[0,:,:, featuremap], interpolation=\"nearest\", vmax=activation_max, cmap=\"gray\")\n",
    "        elif activation_min !=-1:\n",
    "            plt.imshow(activation[0,:,:, featuremap], interpolation=\"nearest\", vmin=activation_min, cmap=\"gray\")\n",
    "        else:\n",
    "            plt.imshow(activation[0,:,:, featuremap], interpolation=\"nearest\", cmap=\"gray\")"
   ]
  }
 ],
 "metadata": {
  "anaconda-cloud": {},
  "kernelspec": {
   "display_name": "Python 3",
   "language": "python",
   "name": "python3"
  },
  "language_info": {
   "codemirror_mode": {
    "name": "ipython",
    "version": 3
   },
   "file_extension": ".py",
   "mimetype": "text/x-python",
   "name": "python",
   "nbconvert_exporter": "python",
   "pygments_lexer": "ipython3",
   "version": "3.5.2"
  },
  "widgets": {
   "state": {},
   "version": "1.1.2"
  }
 },
 "nbformat": 4,
 "nbformat_minor": 1
}
